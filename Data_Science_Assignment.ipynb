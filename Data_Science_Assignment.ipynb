{
 "cells": [
  {
   "cell_type": "markdown",
   "metadata": {},
   "source": [
    "* LEE MENG KEONG 18WMR12674\n",
    "* CHOONG LIK XIAN 18WMR12342\n",
    "* ONG ZHI CHUEN 18WMR12486"
   ]
  },
  {
   "cell_type": "markdown",
   "metadata": {
    "colab_type": "text",
    "id": "Nfvy-87PODVC"
   },
   "source": [
    "# Data Science Assignment\n",
    "1. [Business Understanding](#A.-Business-Understanding)\n",
    "2. [Data Understanding](#B.-Data-Understanding)\n",
    "3. [Data Preparation](#C.-Data-Preparation)\n",
    "4. [Modelling](#D.-Modelling)\n",
    "5. [Evaluation](#E.-Evaluation)\n",
    "6. [Deployment](#F.-Deployment)\n",
    "7. [Conclusion](#H.-Conclusion)\n",
    "8. [References](#I.-References)"
   ]
  },
  {
   "cell_type": "markdown",
   "metadata": {
    "colab_type": "text",
    "id": "fzAJu6dcODVD"
   },
   "source": [
    "## A. Business Understanding\n",
    "The objective of this assignment is to predict the popularity of the song with 18 attributes. All the 18 attributes are acousticness, artists, danceability, duration_ms, energy, explicit, id, instrumentalness, key, liveness, loudness, mode, name, release_date, speechiness, tempo, valence and year. In the meanwhile the popularity attribute is used as the predicting class.\n",
    "\n",
    "We would like to study what kind of the song are mostly like by the spotify user. By doing that we will study the popularity of the song with its total 18 attributes\n",
    "\n",
    "2 training model will be tried in this assignment which are K-Nearest Neighbors(KNN) and Support Vector Classifier(SVC). The reason of choosing KNN and SVC is because they able to classify the data result. For example result like binary data (0 and 1). At last we will compare the performance of both KNN and SVC."
   ]
  },
  {
   "cell_type": "markdown",
   "metadata": {
    "colab_type": "text",
    "id": "4ZLn2pm9ODVE"
   },
   "source": [
    "## B. Data Understanding"
   ]
  },
  {
   "cell_type": "code",
   "execution_count": 262,
   "metadata": {
    "colab": {},
    "colab_type": "code",
    "id": "wACvXdX2ODVE"
   },
   "outputs": [],
   "source": [
    "import pandas as pd\n",
    "import statistics\n",
    "from sklearn.model_selection import train_test_split\n",
    "from sklearn.preprocessing import PolynomialFeatures, StandardScaler\n",
    "from sklearn.metrics import confusion_matrix, accuracy_score, precision_score, recall_score, f1_score, classification_report\n",
    "from sklearn.model_selection import cross_val_score , cross_val_predict, cross_validate\n",
    "import matplotlib.pyplot as plt\n",
    "import numpy as np"
   ]
  },
  {
   "cell_type": "markdown",
   "metadata": {
    "colab_type": "text",
    "id": "oZlPAF9jODVH"
   },
   "source": [
    "* Read the dataset that acquired from kaggle.com which is data.csv\n",
    "* the source is from https://www.kaggle.com/yamaerenay/spotify-dataset-19212020-160k-tracks"
   ]
  },
  {
   "cell_type": "code",
   "execution_count": 263,
   "metadata": {
    "colab": {
     "base_uri": "https://localhost:8080/",
     "height": 428
    },
    "colab_type": "code",
    "id": "zyU7HyepODVI",
    "outputId": "37dac819-675f-4bb5-8cdf-1df7e119d846"
   },
   "outputs": [
    {
     "data": {
      "text/html": [
       "<div>\n",
       "<style scoped>\n",
       "    .dataframe tbody tr th:only-of-type {\n",
       "        vertical-align: middle;\n",
       "    }\n",
       "\n",
       "    .dataframe tbody tr th {\n",
       "        vertical-align: top;\n",
       "    }\n",
       "\n",
       "    .dataframe thead th {\n",
       "        text-align: right;\n",
       "    }\n",
       "</style>\n",
       "<table border=\"1\" class=\"dataframe\">\n",
       "  <thead>\n",
       "    <tr style=\"text-align: right;\">\n",
       "      <th></th>\n",
       "      <th>acousticness</th>\n",
       "      <th>artists</th>\n",
       "      <th>danceability</th>\n",
       "      <th>duration_ms</th>\n",
       "      <th>energy</th>\n",
       "      <th>explicit</th>\n",
       "      <th>id</th>\n",
       "      <th>instrumentalness</th>\n",
       "      <th>key</th>\n",
       "      <th>liveness</th>\n",
       "      <th>loudness</th>\n",
       "      <th>mode</th>\n",
       "      <th>name</th>\n",
       "      <th>popularity</th>\n",
       "      <th>release_date</th>\n",
       "      <th>speechiness</th>\n",
       "      <th>tempo</th>\n",
       "      <th>valence</th>\n",
       "      <th>year</th>\n",
       "    </tr>\n",
       "  </thead>\n",
       "  <tbody>\n",
       "    <tr>\n",
       "      <th>0</th>\n",
       "      <td>0.995</td>\n",
       "      <td>['Carl Woitschach']</td>\n",
       "      <td>0.708</td>\n",
       "      <td>158648</td>\n",
       "      <td>0.1950</td>\n",
       "      <td>0</td>\n",
       "      <td>6KbQ3uYMLKb5jDxLF7wYDD</td>\n",
       "      <td>0.563</td>\n",
       "      <td>10</td>\n",
       "      <td>0.1510</td>\n",
       "      <td>-12.428</td>\n",
       "      <td>1</td>\n",
       "      <td>Singende Bataillone 1. Teil</td>\n",
       "      <td>0</td>\n",
       "      <td>1928</td>\n",
       "      <td>0.0506</td>\n",
       "      <td>118.469</td>\n",
       "      <td>0.7790</td>\n",
       "      <td>1928</td>\n",
       "    </tr>\n",
       "    <tr>\n",
       "      <th>1</th>\n",
       "      <td>0.994</td>\n",
       "      <td>['Robert Schumann', 'Vladimir Horowitz']</td>\n",
       "      <td>0.379</td>\n",
       "      <td>282133</td>\n",
       "      <td>0.0135</td>\n",
       "      <td>0</td>\n",
       "      <td>6KuQTIu1KoTTkLXKrwlLPV</td>\n",
       "      <td>0.901</td>\n",
       "      <td>8</td>\n",
       "      <td>0.0763</td>\n",
       "      <td>-28.454</td>\n",
       "      <td>1</td>\n",
       "      <td>Fantasiestücke, Op. 111: Più tosto lento</td>\n",
       "      <td>0</td>\n",
       "      <td>1928</td>\n",
       "      <td>0.0462</td>\n",
       "      <td>83.972</td>\n",
       "      <td>0.0767</td>\n",
       "      <td>1928</td>\n",
       "    </tr>\n",
       "    <tr>\n",
       "      <th>2</th>\n",
       "      <td>0.604</td>\n",
       "      <td>['Seweryn Goszczyński']</td>\n",
       "      <td>0.749</td>\n",
       "      <td>104300</td>\n",
       "      <td>0.2200</td>\n",
       "      <td>0</td>\n",
       "      <td>6L63VW0PibdM1HDSBoqnoM</td>\n",
       "      <td>0.000</td>\n",
       "      <td>5</td>\n",
       "      <td>0.1190</td>\n",
       "      <td>-19.924</td>\n",
       "      <td>0</td>\n",
       "      <td>Chapter 1.18 - Zamek kaniowski</td>\n",
       "      <td>0</td>\n",
       "      <td>1928</td>\n",
       "      <td>0.9290</td>\n",
       "      <td>107.177</td>\n",
       "      <td>0.8800</td>\n",
       "      <td>1928</td>\n",
       "    </tr>\n",
       "    <tr>\n",
       "      <th>3</th>\n",
       "      <td>0.995</td>\n",
       "      <td>['Francisco Canaro']</td>\n",
       "      <td>0.781</td>\n",
       "      <td>180760</td>\n",
       "      <td>0.1300</td>\n",
       "      <td>0</td>\n",
       "      <td>6M94FkXd15sOAOQYRnWPN8</td>\n",
       "      <td>0.887</td>\n",
       "      <td>1</td>\n",
       "      <td>0.1110</td>\n",
       "      <td>-14.734</td>\n",
       "      <td>0</td>\n",
       "      <td>Bebamos Juntos - Instrumental (Remasterizado)</td>\n",
       "      <td>0</td>\n",
       "      <td>1928-09-25</td>\n",
       "      <td>0.0926</td>\n",
       "      <td>108.003</td>\n",
       "      <td>0.7200</td>\n",
       "      <td>1928</td>\n",
       "    </tr>\n",
       "    <tr>\n",
       "      <th>4</th>\n",
       "      <td>0.990</td>\n",
       "      <td>['Frédéric Chopin', 'Vladimir Horowitz']</td>\n",
       "      <td>0.210</td>\n",
       "      <td>687733</td>\n",
       "      <td>0.2040</td>\n",
       "      <td>0</td>\n",
       "      <td>6N6tiFZ9vLTSOIxkj8qKrd</td>\n",
       "      <td>0.908</td>\n",
       "      <td>11</td>\n",
       "      <td>0.0980</td>\n",
       "      <td>-16.829</td>\n",
       "      <td>1</td>\n",
       "      <td>Polonaise-Fantaisie in A-Flat Major, Op. 61</td>\n",
       "      <td>1</td>\n",
       "      <td>1928</td>\n",
       "      <td>0.0424</td>\n",
       "      <td>62.149</td>\n",
       "      <td>0.0693</td>\n",
       "      <td>1928</td>\n",
       "    </tr>\n",
       "  </tbody>\n",
       "</table>\n",
       "</div>"
      ],
      "text/plain": [
       "   acousticness                                   artists  danceability  \\\n",
       "0         0.995                       ['Carl Woitschach']         0.708   \n",
       "1         0.994  ['Robert Schumann', 'Vladimir Horowitz']         0.379   \n",
       "2         0.604                   ['Seweryn Goszczyński']         0.749   \n",
       "3         0.995                      ['Francisco Canaro']         0.781   \n",
       "4         0.990  ['Frédéric Chopin', 'Vladimir Horowitz']         0.210   \n",
       "\n",
       "   duration_ms  energy  explicit                      id  instrumentalness  \\\n",
       "0       158648  0.1950         0  6KbQ3uYMLKb5jDxLF7wYDD             0.563   \n",
       "1       282133  0.0135         0  6KuQTIu1KoTTkLXKrwlLPV             0.901   \n",
       "2       104300  0.2200         0  6L63VW0PibdM1HDSBoqnoM             0.000   \n",
       "3       180760  0.1300         0  6M94FkXd15sOAOQYRnWPN8             0.887   \n",
       "4       687733  0.2040         0  6N6tiFZ9vLTSOIxkj8qKrd             0.908   \n",
       "\n",
       "   key  liveness  loudness  mode  \\\n",
       "0   10    0.1510   -12.428     1   \n",
       "1    8    0.0763   -28.454     1   \n",
       "2    5    0.1190   -19.924     0   \n",
       "3    1    0.1110   -14.734     0   \n",
       "4   11    0.0980   -16.829     1   \n",
       "\n",
       "                                            name  popularity release_date  \\\n",
       "0                    Singende Bataillone 1. Teil           0         1928   \n",
       "1       Fantasiestücke, Op. 111: Più tosto lento           0         1928   \n",
       "2                 Chapter 1.18 - Zamek kaniowski           0         1928   \n",
       "3  Bebamos Juntos - Instrumental (Remasterizado)           0   1928-09-25   \n",
       "4    Polonaise-Fantaisie in A-Flat Major, Op. 61           1         1928   \n",
       "\n",
       "   speechiness    tempo  valence  year  \n",
       "0       0.0506  118.469   0.7790  1928  \n",
       "1       0.0462   83.972   0.0767  1928  \n",
       "2       0.9290  107.177   0.8800  1928  \n",
       "3       0.0926  108.003   0.7200  1928  \n",
       "4       0.0424   62.149   0.0693  1928  "
      ]
     },
     "execution_count": 263,
     "metadata": {},
     "output_type": "execute_result"
    }
   ],
   "source": [
    "song = pd.read_csv(\"data.csv\")\n",
    "song.head()"
   ]
  },
  {
   "cell_type": "code",
   "execution_count": 264,
   "metadata": {
    "colab": {
     "base_uri": "https://localhost:8080/",
     "height": 534
    },
    "colab_type": "code",
    "id": "j_hS98zFODVL",
    "outputId": "2aeb137c-6594-417e-e316-ec2bd296a9f5"
   },
   "outputs": [
    {
     "data": {
      "text/html": [
       "<div>\n",
       "<style scoped>\n",
       "    .dataframe tbody tr th:only-of-type {\n",
       "        vertical-align: middle;\n",
       "    }\n",
       "\n",
       "    .dataframe tbody tr th {\n",
       "        vertical-align: top;\n",
       "    }\n",
       "\n",
       "    .dataframe thead th {\n",
       "        text-align: right;\n",
       "    }\n",
       "</style>\n",
       "<table border=\"1\" class=\"dataframe\">\n",
       "  <thead>\n",
       "    <tr style=\"text-align: right;\">\n",
       "      <th></th>\n",
       "      <th>acousticness</th>\n",
       "      <th>danceability</th>\n",
       "      <th>duration_ms</th>\n",
       "      <th>energy</th>\n",
       "      <th>explicit</th>\n",
       "      <th>instrumentalness</th>\n",
       "      <th>key</th>\n",
       "      <th>liveness</th>\n",
       "      <th>loudness</th>\n",
       "      <th>mode</th>\n",
       "      <th>popularity</th>\n",
       "      <th>speechiness</th>\n",
       "      <th>tempo</th>\n",
       "      <th>valence</th>\n",
       "      <th>year</th>\n",
       "    </tr>\n",
       "  </thead>\n",
       "  <tbody>\n",
       "    <tr>\n",
       "      <th>acousticness</th>\n",
       "      <td>1.000000</td>\n",
       "      <td>-0.265950</td>\n",
       "      <td>-0.079311</td>\n",
       "      <td>-0.750283</td>\n",
       "      <td>-0.253690</td>\n",
       "      <td>0.335821</td>\n",
       "      <td>-0.021686</td>\n",
       "      <td>-0.023871</td>\n",
       "      <td>-0.567072</td>\n",
       "      <td>0.046475</td>\n",
       "      <td>-0.593345</td>\n",
       "      <td>-0.056077</td>\n",
       "      <td>-0.204982</td>\n",
       "      <td>-0.185540</td>\n",
       "      <td>-0.624550</td>\n",
       "    </tr>\n",
       "    <tr>\n",
       "      <th>danceability</th>\n",
       "      <td>-0.265950</td>\n",
       "      <td>1.000000</td>\n",
       "      <td>-0.134500</td>\n",
       "      <td>0.220569</td>\n",
       "      <td>0.241891</td>\n",
       "      <td>-0.281429</td>\n",
       "      <td>0.022599</td>\n",
       "      <td>-0.105532</td>\n",
       "      <td>0.294170</td>\n",
       "      <td>-0.045306</td>\n",
       "      <td>0.221077</td>\n",
       "      <td>0.225305</td>\n",
       "      <td>-0.004872</td>\n",
       "      <td>0.560242</td>\n",
       "      <td>0.203430</td>\n",
       "    </tr>\n",
       "    <tr>\n",
       "      <th>duration_ms</th>\n",
       "      <td>-0.079311</td>\n",
       "      <td>-0.134500</td>\n",
       "      <td>1.000000</td>\n",
       "      <td>0.036396</td>\n",
       "      <td>-0.043811</td>\n",
       "      <td>0.084814</td>\n",
       "      <td>-0.003116</td>\n",
       "      <td>0.034270</td>\n",
       "      <td>-0.014687</td>\n",
       "      <td>-0.046981</td>\n",
       "      <td>0.063292</td>\n",
       "      <td>-0.058449</td>\n",
       "      <td>-0.028816</td>\n",
       "      <td>-0.198760</td>\n",
       "      <td>0.076293</td>\n",
       "    </tr>\n",
       "    <tr>\n",
       "      <th>energy</th>\n",
       "      <td>-0.750283</td>\n",
       "      <td>0.220569</td>\n",
       "      <td>0.036396</td>\n",
       "      <td>1.000000</td>\n",
       "      <td>0.142677</td>\n",
       "      <td>-0.287692</td>\n",
       "      <td>0.029984</td>\n",
       "      <td>0.126293</td>\n",
       "      <td>0.782982</td>\n",
       "      <td>-0.038355</td>\n",
       "      <td>0.497488</td>\n",
       "      <td>-0.045226</td>\n",
       "      <td>0.249936</td>\n",
       "      <td>0.350086</td>\n",
       "      <td>0.532419</td>\n",
       "    </tr>\n",
       "    <tr>\n",
       "      <th>explicit</th>\n",
       "      <td>-0.253690</td>\n",
       "      <td>0.241891</td>\n",
       "      <td>-0.043811</td>\n",
       "      <td>0.142677</td>\n",
       "      <td>1.000000</td>\n",
       "      <td>-0.138292</td>\n",
       "      <td>0.008578</td>\n",
       "      <td>0.039272</td>\n",
       "      <td>0.152695</td>\n",
       "      <td>-0.083221</td>\n",
       "      <td>0.214044</td>\n",
       "      <td>0.413074</td>\n",
       "      <td>0.011484</td>\n",
       "      <td>-0.022327</td>\n",
       "      <td>0.245227</td>\n",
       "    </tr>\n",
       "    <tr>\n",
       "      <th>instrumentalness</th>\n",
       "      <td>0.335821</td>\n",
       "      <td>-0.281429</td>\n",
       "      <td>0.084814</td>\n",
       "      <td>-0.287692</td>\n",
       "      <td>-0.138292</td>\n",
       "      <td>1.000000</td>\n",
       "      <td>-0.014268</td>\n",
       "      <td>-0.047397</td>\n",
       "      <td>-0.417033</td>\n",
       "      <td>-0.035051</td>\n",
       "      <td>-0.299829</td>\n",
       "      <td>-0.115735</td>\n",
       "      <td>-0.107570</td>\n",
       "      <td>-0.193929</td>\n",
       "      <td>-0.291571</td>\n",
       "    </tr>\n",
       "    <tr>\n",
       "      <th>key</th>\n",
       "      <td>-0.021686</td>\n",
       "      <td>0.022599</td>\n",
       "      <td>-0.003116</td>\n",
       "      <td>0.029984</td>\n",
       "      <td>0.008578</td>\n",
       "      <td>-0.014268</td>\n",
       "      <td>1.000000</td>\n",
       "      <td>-0.000106</td>\n",
       "      <td>0.021920</td>\n",
       "      <td>-0.112766</td>\n",
       "      <td>0.010675</td>\n",
       "      <td>0.015225</td>\n",
       "      <td>0.003148</td>\n",
       "      <td>0.029064</td>\n",
       "      <td>0.012503</td>\n",
       "    </tr>\n",
       "    <tr>\n",
       "      <th>liveness</th>\n",
       "      <td>-0.023871</td>\n",
       "      <td>-0.105532</td>\n",
       "      <td>0.034270</td>\n",
       "      <td>0.126293</td>\n",
       "      <td>0.039272</td>\n",
       "      <td>-0.047397</td>\n",
       "      <td>-0.000106</td>\n",
       "      <td>1.000000</td>\n",
       "      <td>0.052985</td>\n",
       "      <td>0.005393</td>\n",
       "      <td>-0.075293</td>\n",
       "      <td>0.147667</td>\n",
       "      <td>0.008124</td>\n",
       "      <td>-0.000426</td>\n",
       "      <td>-0.055839</td>\n",
       "    </tr>\n",
       "    <tr>\n",
       "      <th>loudness</th>\n",
       "      <td>-0.567072</td>\n",
       "      <td>0.294170</td>\n",
       "      <td>-0.014687</td>\n",
       "      <td>0.782982</td>\n",
       "      <td>0.152695</td>\n",
       "      <td>-0.417033</td>\n",
       "      <td>0.021920</td>\n",
       "      <td>0.052985</td>\n",
       "      <td>1.000000</td>\n",
       "      <td>-0.013147</td>\n",
       "      <td>0.466546</td>\n",
       "      <td>-0.105796</td>\n",
       "      <td>0.211114</td>\n",
       "      <td>0.308418</td>\n",
       "      <td>0.490118</td>\n",
       "    </tr>\n",
       "    <tr>\n",
       "      <th>mode</th>\n",
       "      <td>0.046475</td>\n",
       "      <td>-0.045306</td>\n",
       "      <td>-0.046981</td>\n",
       "      <td>-0.038355</td>\n",
       "      <td>-0.083221</td>\n",
       "      <td>-0.035051</td>\n",
       "      <td>-0.112766</td>\n",
       "      <td>0.005393</td>\n",
       "      <td>-0.013147</td>\n",
       "      <td>1.000000</td>\n",
       "      <td>-0.032854</td>\n",
       "      <td>-0.057493</td>\n",
       "      <td>0.014539</td>\n",
       "      <td>0.014727</td>\n",
       "      <td>-0.033084</td>\n",
       "    </tr>\n",
       "    <tr>\n",
       "      <th>popularity</th>\n",
       "      <td>-0.593345</td>\n",
       "      <td>0.221077</td>\n",
       "      <td>0.063292</td>\n",
       "      <td>0.497488</td>\n",
       "      <td>0.214044</td>\n",
       "      <td>-0.299829</td>\n",
       "      <td>0.010675</td>\n",
       "      <td>-0.075293</td>\n",
       "      <td>0.466546</td>\n",
       "      <td>-0.032854</td>\n",
       "      <td>1.000000</td>\n",
       "      <td>-0.135707</td>\n",
       "      <td>0.135047</td>\n",
       "      <td>0.009327</td>\n",
       "      <td>0.880724</td>\n",
       "    </tr>\n",
       "    <tr>\n",
       "      <th>speechiness</th>\n",
       "      <td>-0.056077</td>\n",
       "      <td>0.225305</td>\n",
       "      <td>-0.058449</td>\n",
       "      <td>-0.045226</td>\n",
       "      <td>0.413074</td>\n",
       "      <td>-0.115735</td>\n",
       "      <td>0.015225</td>\n",
       "      <td>0.147667</td>\n",
       "      <td>-0.105796</td>\n",
       "      <td>-0.057493</td>\n",
       "      <td>-0.135707</td>\n",
       "      <td>1.000000</td>\n",
       "      <td>-0.010070</td>\n",
       "      <td>0.056383</td>\n",
       "      <td>-0.120937</td>\n",
       "    </tr>\n",
       "    <tr>\n",
       "      <th>tempo</th>\n",
       "      <td>-0.204982</td>\n",
       "      <td>-0.004872</td>\n",
       "      <td>-0.028816</td>\n",
       "      <td>0.249936</td>\n",
       "      <td>0.011484</td>\n",
       "      <td>-0.107570</td>\n",
       "      <td>0.003148</td>\n",
       "      <td>0.008124</td>\n",
       "      <td>0.211114</td>\n",
       "      <td>0.014539</td>\n",
       "      <td>0.135047</td>\n",
       "      <td>-0.010070</td>\n",
       "      <td>1.000000</td>\n",
       "      <td>0.171182</td>\n",
       "      <td>0.137892</td>\n",
       "    </tr>\n",
       "    <tr>\n",
       "      <th>valence</th>\n",
       "      <td>-0.185540</td>\n",
       "      <td>0.560242</td>\n",
       "      <td>-0.198760</td>\n",
       "      <td>0.350086</td>\n",
       "      <td>-0.022327</td>\n",
       "      <td>-0.193929</td>\n",
       "      <td>0.029064</td>\n",
       "      <td>-0.000426</td>\n",
       "      <td>0.308418</td>\n",
       "      <td>0.014727</td>\n",
       "      <td>0.009327</td>\n",
       "      <td>0.056383</td>\n",
       "      <td>0.171182</td>\n",
       "      <td>1.000000</td>\n",
       "      <td>-0.029304</td>\n",
       "    </tr>\n",
       "    <tr>\n",
       "      <th>year</th>\n",
       "      <td>-0.624550</td>\n",
       "      <td>0.203430</td>\n",
       "      <td>0.076293</td>\n",
       "      <td>0.532419</td>\n",
       "      <td>0.245227</td>\n",
       "      <td>-0.291571</td>\n",
       "      <td>0.012503</td>\n",
       "      <td>-0.055839</td>\n",
       "      <td>0.490118</td>\n",
       "      <td>-0.033084</td>\n",
       "      <td>0.880724</td>\n",
       "      <td>-0.120937</td>\n",
       "      <td>0.137892</td>\n",
       "      <td>-0.029304</td>\n",
       "      <td>1.000000</td>\n",
       "    </tr>\n",
       "  </tbody>\n",
       "</table>\n",
       "</div>"
      ],
      "text/plain": [
       "                  acousticness  danceability  duration_ms    energy  explicit  \\\n",
       "acousticness          1.000000     -0.265950    -0.079311 -0.750283 -0.253690   \n",
       "danceability         -0.265950      1.000000    -0.134500  0.220569  0.241891   \n",
       "duration_ms          -0.079311     -0.134500     1.000000  0.036396 -0.043811   \n",
       "energy               -0.750283      0.220569     0.036396  1.000000  0.142677   \n",
       "explicit             -0.253690      0.241891    -0.043811  0.142677  1.000000   \n",
       "instrumentalness      0.335821     -0.281429     0.084814 -0.287692 -0.138292   \n",
       "key                  -0.021686      0.022599    -0.003116  0.029984  0.008578   \n",
       "liveness             -0.023871     -0.105532     0.034270  0.126293  0.039272   \n",
       "loudness             -0.567072      0.294170    -0.014687  0.782982  0.152695   \n",
       "mode                  0.046475     -0.045306    -0.046981 -0.038355 -0.083221   \n",
       "popularity           -0.593345      0.221077     0.063292  0.497488  0.214044   \n",
       "speechiness          -0.056077      0.225305    -0.058449 -0.045226  0.413074   \n",
       "tempo                -0.204982     -0.004872    -0.028816  0.249936  0.011484   \n",
       "valence              -0.185540      0.560242    -0.198760  0.350086 -0.022327   \n",
       "year                 -0.624550      0.203430     0.076293  0.532419  0.245227   \n",
       "\n",
       "                  instrumentalness       key  liveness  loudness      mode  \\\n",
       "acousticness              0.335821 -0.021686 -0.023871 -0.567072  0.046475   \n",
       "danceability             -0.281429  0.022599 -0.105532  0.294170 -0.045306   \n",
       "duration_ms               0.084814 -0.003116  0.034270 -0.014687 -0.046981   \n",
       "energy                   -0.287692  0.029984  0.126293  0.782982 -0.038355   \n",
       "explicit                 -0.138292  0.008578  0.039272  0.152695 -0.083221   \n",
       "instrumentalness          1.000000 -0.014268 -0.047397 -0.417033 -0.035051   \n",
       "key                      -0.014268  1.000000 -0.000106  0.021920 -0.112766   \n",
       "liveness                 -0.047397 -0.000106  1.000000  0.052985  0.005393   \n",
       "loudness                 -0.417033  0.021920  0.052985  1.000000 -0.013147   \n",
       "mode                     -0.035051 -0.112766  0.005393 -0.013147  1.000000   \n",
       "popularity               -0.299829  0.010675 -0.075293  0.466546 -0.032854   \n",
       "speechiness              -0.115735  0.015225  0.147667 -0.105796 -0.057493   \n",
       "tempo                    -0.107570  0.003148  0.008124  0.211114  0.014539   \n",
       "valence                  -0.193929  0.029064 -0.000426  0.308418  0.014727   \n",
       "year                     -0.291571  0.012503 -0.055839  0.490118 -0.033084   \n",
       "\n",
       "                  popularity  speechiness     tempo   valence      year  \n",
       "acousticness       -0.593345    -0.056077 -0.204982 -0.185540 -0.624550  \n",
       "danceability        0.221077     0.225305 -0.004872  0.560242  0.203430  \n",
       "duration_ms         0.063292    -0.058449 -0.028816 -0.198760  0.076293  \n",
       "energy              0.497488    -0.045226  0.249936  0.350086  0.532419  \n",
       "explicit            0.214044     0.413074  0.011484 -0.022327  0.245227  \n",
       "instrumentalness   -0.299829    -0.115735 -0.107570 -0.193929 -0.291571  \n",
       "key                 0.010675     0.015225  0.003148  0.029064  0.012503  \n",
       "liveness           -0.075293     0.147667  0.008124 -0.000426 -0.055839  \n",
       "loudness            0.466546    -0.105796  0.211114  0.308418  0.490118  \n",
       "mode               -0.032854    -0.057493  0.014539  0.014727 -0.033084  \n",
       "popularity          1.000000    -0.135707  0.135047  0.009327  0.880724  \n",
       "speechiness        -0.135707     1.000000 -0.010070  0.056383 -0.120937  \n",
       "tempo               0.135047    -0.010070  1.000000  0.171182  0.137892  \n",
       "valence             0.009327     0.056383  0.171182  1.000000 -0.029304  \n",
       "year                0.880724    -0.120937  0.137892 -0.029304  1.000000  "
      ]
     },
     "execution_count": 264,
     "metadata": {},
     "output_type": "execute_result"
    }
   ],
   "source": [
    "song.corr()"
   ]
  },
  {
   "cell_type": "markdown",
   "metadata": {
    "colab_type": "text",
    "id": "rBV5UgmPODVO"
   },
   "source": [
    "**Observation**\n",
    "* danceability, energy, explicit, loudness, tempo have correlation with popularity. So I conclude that these 5 attributes are the most important and relate to popularity"
   ]
  },
  {
   "cell_type": "code",
   "execution_count": 265,
   "metadata": {
    "colab": {
     "base_uri": "https://localhost:8080/",
     "height": 173
    },
    "colab_type": "code",
    "id": "gnSgwD4moHt5",
    "outputId": "7cd98b9f-be16-4bbd-ab95-26b959a3eafc"
   },
   "outputs": [
    {
     "data": {
      "text/html": [
       "<div>\n",
       "<style scoped>\n",
       "    .dataframe tbody tr th:only-of-type {\n",
       "        vertical-align: middle;\n",
       "    }\n",
       "\n",
       "    .dataframe tbody tr th {\n",
       "        vertical-align: top;\n",
       "    }\n",
       "\n",
       "    .dataframe thead th {\n",
       "        text-align: right;\n",
       "    }\n",
       "</style>\n",
       "<table border=\"1\" class=\"dataframe\">\n",
       "  <thead>\n",
       "    <tr style=\"text-align: right;\">\n",
       "      <th></th>\n",
       "      <th>artists</th>\n",
       "      <th>id</th>\n",
       "      <th>name</th>\n",
       "      <th>release_date</th>\n",
       "    </tr>\n",
       "  </thead>\n",
       "  <tbody>\n",
       "    <tr>\n",
       "      <th>count</th>\n",
       "      <td>169909</td>\n",
       "      <td>169909</td>\n",
       "      <td>169909</td>\n",
       "      <td>169909</td>\n",
       "    </tr>\n",
       "    <tr>\n",
       "      <th>unique</th>\n",
       "      <td>33375</td>\n",
       "      <td>169909</td>\n",
       "      <td>132940</td>\n",
       "      <td>10882</td>\n",
       "    </tr>\n",
       "    <tr>\n",
       "      <th>top</th>\n",
       "      <td>['Эрнест Хемингуэй']</td>\n",
       "      <td>6NY8PMePZSyy2YPzJlhO7H</td>\n",
       "      <td>Summertime</td>\n",
       "      <td>1945</td>\n",
       "    </tr>\n",
       "    <tr>\n",
       "      <th>freq</th>\n",
       "      <td>1215</td>\n",
       "      <td>1</td>\n",
       "      <td>62</td>\n",
       "      <td>1449</td>\n",
       "    </tr>\n",
       "  </tbody>\n",
       "</table>\n",
       "</div>"
      ],
      "text/plain": [
       "                     artists                      id        name release_date\n",
       "count                 169909                  169909      169909       169909\n",
       "unique                 33375                  169909      132940        10882\n",
       "top     ['Эрнест Хемингуэй']  6NY8PMePZSyy2YPzJlhO7H  Summertime         1945\n",
       "freq                    1215                       1          62         1449"
      ]
     },
     "execution_count": 265,
     "metadata": {},
     "output_type": "execute_result"
    }
   ],
   "source": [
    "song.describe(include=['object'])"
   ]
  },
  {
   "cell_type": "code",
   "execution_count": 266,
   "metadata": {
    "colab": {
     "base_uri": "https://localhost:8080/",
     "height": 317
    },
    "colab_type": "code",
    "id": "C044nd7OwUOi",
    "outputId": "f6a11ce5-60bc-4577-da68-aa0c226fc44d"
   },
   "outputs": [
    {
     "data": {
      "text/html": [
       "<div>\n",
       "<style scoped>\n",
       "    .dataframe tbody tr th:only-of-type {\n",
       "        vertical-align: middle;\n",
       "    }\n",
       "\n",
       "    .dataframe tbody tr th {\n",
       "        vertical-align: top;\n",
       "    }\n",
       "\n",
       "    .dataframe thead th {\n",
       "        text-align: right;\n",
       "    }\n",
       "</style>\n",
       "<table border=\"1\" class=\"dataframe\">\n",
       "  <thead>\n",
       "    <tr style=\"text-align: right;\">\n",
       "      <th></th>\n",
       "      <th>acousticness</th>\n",
       "      <th>danceability</th>\n",
       "      <th>duration_ms</th>\n",
       "      <th>energy</th>\n",
       "      <th>explicit</th>\n",
       "      <th>instrumentalness</th>\n",
       "      <th>key</th>\n",
       "      <th>liveness</th>\n",
       "      <th>loudness</th>\n",
       "      <th>mode</th>\n",
       "      <th>popularity</th>\n",
       "      <th>speechiness</th>\n",
       "      <th>tempo</th>\n",
       "      <th>valence</th>\n",
       "      <th>year</th>\n",
       "    </tr>\n",
       "  </thead>\n",
       "  <tbody>\n",
       "    <tr>\n",
       "      <th>count</th>\n",
       "      <td>169909.000000</td>\n",
       "      <td>169909.000000</td>\n",
       "      <td>1.699090e+05</td>\n",
       "      <td>169909.000000</td>\n",
       "      <td>169909.000000</td>\n",
       "      <td>169909.000000</td>\n",
       "      <td>169909.000000</td>\n",
       "      <td>169909.000000</td>\n",
       "      <td>169909.000000</td>\n",
       "      <td>169909.000000</td>\n",
       "      <td>169909.000000</td>\n",
       "      <td>169909.000000</td>\n",
       "      <td>169909.000000</td>\n",
       "      <td>169909.000000</td>\n",
       "      <td>169909.000000</td>\n",
       "    </tr>\n",
       "    <tr>\n",
       "      <th>mean</th>\n",
       "      <td>0.493214</td>\n",
       "      <td>0.538150</td>\n",
       "      <td>2.314062e+05</td>\n",
       "      <td>0.488593</td>\n",
       "      <td>0.084863</td>\n",
       "      <td>0.161937</td>\n",
       "      <td>5.200519</td>\n",
       "      <td>0.206690</td>\n",
       "      <td>-11.370289</td>\n",
       "      <td>0.708556</td>\n",
       "      <td>31.556610</td>\n",
       "      <td>0.094058</td>\n",
       "      <td>116.948017</td>\n",
       "      <td>0.532095</td>\n",
       "      <td>1977.223231</td>\n",
       "    </tr>\n",
       "    <tr>\n",
       "      <th>std</th>\n",
       "      <td>0.376627</td>\n",
       "      <td>0.175346</td>\n",
       "      <td>1.213219e+05</td>\n",
       "      <td>0.267390</td>\n",
       "      <td>0.278679</td>\n",
       "      <td>0.309329</td>\n",
       "      <td>3.515257</td>\n",
       "      <td>0.176796</td>\n",
       "      <td>5.666765</td>\n",
       "      <td>0.454429</td>\n",
       "      <td>21.582614</td>\n",
       "      <td>0.149937</td>\n",
       "      <td>30.726937</td>\n",
       "      <td>0.262408</td>\n",
       "      <td>25.593168</td>\n",
       "    </tr>\n",
       "    <tr>\n",
       "      <th>min</th>\n",
       "      <td>0.000000</td>\n",
       "      <td>0.000000</td>\n",
       "      <td>5.108000e+03</td>\n",
       "      <td>0.000000</td>\n",
       "      <td>0.000000</td>\n",
       "      <td>0.000000</td>\n",
       "      <td>0.000000</td>\n",
       "      <td>0.000000</td>\n",
       "      <td>-60.000000</td>\n",
       "      <td>0.000000</td>\n",
       "      <td>0.000000</td>\n",
       "      <td>0.000000</td>\n",
       "      <td>0.000000</td>\n",
       "      <td>0.000000</td>\n",
       "      <td>1921.000000</td>\n",
       "    </tr>\n",
       "    <tr>\n",
       "      <th>25%</th>\n",
       "      <td>0.094500</td>\n",
       "      <td>0.417000</td>\n",
       "      <td>1.710400e+05</td>\n",
       "      <td>0.263000</td>\n",
       "      <td>0.000000</td>\n",
       "      <td>0.000000</td>\n",
       "      <td>2.000000</td>\n",
       "      <td>0.098400</td>\n",
       "      <td>-14.470000</td>\n",
       "      <td>0.000000</td>\n",
       "      <td>12.000000</td>\n",
       "      <td>0.034900</td>\n",
       "      <td>93.516000</td>\n",
       "      <td>0.322000</td>\n",
       "      <td>1957.000000</td>\n",
       "    </tr>\n",
       "    <tr>\n",
       "      <th>50%</th>\n",
       "      <td>0.492000</td>\n",
       "      <td>0.548000</td>\n",
       "      <td>2.086000e+05</td>\n",
       "      <td>0.481000</td>\n",
       "      <td>0.000000</td>\n",
       "      <td>0.000204</td>\n",
       "      <td>5.000000</td>\n",
       "      <td>0.135000</td>\n",
       "      <td>-10.474000</td>\n",
       "      <td>1.000000</td>\n",
       "      <td>33.000000</td>\n",
       "      <td>0.045000</td>\n",
       "      <td>114.778000</td>\n",
       "      <td>0.544000</td>\n",
       "      <td>1978.000000</td>\n",
       "    </tr>\n",
       "    <tr>\n",
       "      <th>75%</th>\n",
       "      <td>0.888000</td>\n",
       "      <td>0.667000</td>\n",
       "      <td>2.629600e+05</td>\n",
       "      <td>0.710000</td>\n",
       "      <td>0.000000</td>\n",
       "      <td>0.086800</td>\n",
       "      <td>8.000000</td>\n",
       "      <td>0.263000</td>\n",
       "      <td>-7.118000</td>\n",
       "      <td>1.000000</td>\n",
       "      <td>48.000000</td>\n",
       "      <td>0.075400</td>\n",
       "      <td>135.712000</td>\n",
       "      <td>0.749000</td>\n",
       "      <td>1999.000000</td>\n",
       "    </tr>\n",
       "    <tr>\n",
       "      <th>max</th>\n",
       "      <td>0.996000</td>\n",
       "      <td>0.988000</td>\n",
       "      <td>5.403500e+06</td>\n",
       "      <td>1.000000</td>\n",
       "      <td>1.000000</td>\n",
       "      <td>1.000000</td>\n",
       "      <td>11.000000</td>\n",
       "      <td>1.000000</td>\n",
       "      <td>3.855000</td>\n",
       "      <td>1.000000</td>\n",
       "      <td>100.000000</td>\n",
       "      <td>0.969000</td>\n",
       "      <td>244.091000</td>\n",
       "      <td>1.000000</td>\n",
       "      <td>2020.000000</td>\n",
       "    </tr>\n",
       "  </tbody>\n",
       "</table>\n",
       "</div>"
      ],
      "text/plain": [
       "        acousticness   danceability   duration_ms         energy  \\\n",
       "count  169909.000000  169909.000000  1.699090e+05  169909.000000   \n",
       "mean        0.493214       0.538150  2.314062e+05       0.488593   \n",
       "std         0.376627       0.175346  1.213219e+05       0.267390   \n",
       "min         0.000000       0.000000  5.108000e+03       0.000000   \n",
       "25%         0.094500       0.417000  1.710400e+05       0.263000   \n",
       "50%         0.492000       0.548000  2.086000e+05       0.481000   \n",
       "75%         0.888000       0.667000  2.629600e+05       0.710000   \n",
       "max         0.996000       0.988000  5.403500e+06       1.000000   \n",
       "\n",
       "            explicit  instrumentalness            key       liveness  \\\n",
       "count  169909.000000     169909.000000  169909.000000  169909.000000   \n",
       "mean        0.084863          0.161937       5.200519       0.206690   \n",
       "std         0.278679          0.309329       3.515257       0.176796   \n",
       "min         0.000000          0.000000       0.000000       0.000000   \n",
       "25%         0.000000          0.000000       2.000000       0.098400   \n",
       "50%         0.000000          0.000204       5.000000       0.135000   \n",
       "75%         0.000000          0.086800       8.000000       0.263000   \n",
       "max         1.000000          1.000000      11.000000       1.000000   \n",
       "\n",
       "            loudness           mode     popularity    speechiness  \\\n",
       "count  169909.000000  169909.000000  169909.000000  169909.000000   \n",
       "mean      -11.370289       0.708556      31.556610       0.094058   \n",
       "std         5.666765       0.454429      21.582614       0.149937   \n",
       "min       -60.000000       0.000000       0.000000       0.000000   \n",
       "25%       -14.470000       0.000000      12.000000       0.034900   \n",
       "50%       -10.474000       1.000000      33.000000       0.045000   \n",
       "75%        -7.118000       1.000000      48.000000       0.075400   \n",
       "max         3.855000       1.000000     100.000000       0.969000   \n",
       "\n",
       "               tempo        valence           year  \n",
       "count  169909.000000  169909.000000  169909.000000  \n",
       "mean      116.948017       0.532095    1977.223231  \n",
       "std        30.726937       0.262408      25.593168  \n",
       "min         0.000000       0.000000    1921.000000  \n",
       "25%        93.516000       0.322000    1957.000000  \n",
       "50%       114.778000       0.544000    1978.000000  \n",
       "75%       135.712000       0.749000    1999.000000  \n",
       "max       244.091000       1.000000    2020.000000  "
      ]
     },
     "execution_count": 266,
     "metadata": {},
     "output_type": "execute_result"
    }
   ],
   "source": [
    "song.describe(include=['number'])"
   ]
  },
  {
   "cell_type": "code",
   "execution_count": 267,
   "metadata": {
    "colab": {
     "base_uri": "https://localhost:8080/",
     "height": 459
    },
    "colab_type": "code",
    "id": "8qRS78d9wdEc",
    "outputId": "291401a5-0b5a-412e-a312-79842bd17461"
   },
   "outputs": [
    {
     "name": "stdout",
     "output_type": "stream",
     "text": [
      "<class 'pandas.core.frame.DataFrame'>\n",
      "RangeIndex: 169909 entries, 0 to 169908\n",
      "Data columns (total 19 columns):\n",
      " #   Column            Non-Null Count   Dtype  \n",
      "---  ------            --------------   -----  \n",
      " 0   acousticness      169909 non-null  float64\n",
      " 1   artists           169909 non-null  object \n",
      " 2   danceability      169909 non-null  float64\n",
      " 3   duration_ms       169909 non-null  int64  \n",
      " 4   energy            169909 non-null  float64\n",
      " 5   explicit          169909 non-null  int64  \n",
      " 6   id                169909 non-null  object \n",
      " 7   instrumentalness  169909 non-null  float64\n",
      " 8   key               169909 non-null  int64  \n",
      " 9   liveness          169909 non-null  float64\n",
      " 10  loudness          169909 non-null  float64\n",
      " 11  mode              169909 non-null  int64  \n",
      " 12  name              169909 non-null  object \n",
      " 13  popularity        169909 non-null  int64  \n",
      " 14  release_date      169909 non-null  object \n",
      " 15  speechiness       169909 non-null  float64\n",
      " 16  tempo             169909 non-null  float64\n",
      " 17  valence           169909 non-null  float64\n",
      " 18  year              169909 non-null  int64  \n",
      "dtypes: float64(9), int64(6), object(4)\n",
      "memory usage: 24.6+ MB\n"
     ]
    }
   ],
   "source": [
    "song.info()"
   ]
  },
  {
   "cell_type": "markdown",
   "metadata": {
    "colab_type": "text",
    "id": "795ElWjXQdrN"
   },
   "source": [
    "This dataset consists of 169909 sample with 4 objects and 15 numeric attributes"
   ]
  },
  {
   "cell_type": "code",
   "execution_count": 268,
   "metadata": {
    "colab": {
     "base_uri": "https://localhost:8080/",
     "height": 1000
    },
    "colab_type": "code",
    "id": "-V_37vhQ0rlf",
    "outputId": "c8bbe1b7-bb77-447d-b43f-759c4f4ad1b1"
   },
   "outputs": [
    {
     "data": {
      "text/plain": [
       "array([[<matplotlib.axes._subplots.AxesSubplot object at 0x000002DA7736ADC0>,\n",
       "        <matplotlib.axes._subplots.AxesSubplot object at 0x000002DA06719B80>,\n",
       "        <matplotlib.axes._subplots.AxesSubplot object at 0x000002DA02BFC3A0>,\n",
       "        <matplotlib.axes._subplots.AxesSubplot object at 0x000002DA02C23B20>],\n",
       "       [<matplotlib.axes._subplots.AxesSubplot object at 0x000002DA02C5A2E0>,\n",
       "        <matplotlib.axes._subplots.AxesSubplot object at 0x000002DA02C829A0>,\n",
       "        <matplotlib.axes._subplots.AxesSubplot object at 0x000002DA02C82A90>,\n",
       "        <matplotlib.axes._subplots.AxesSubplot object at 0x000002DA02CB82B0>],\n",
       "       [<matplotlib.axes._subplots.AxesSubplot object at 0x000002DA02D18160>,\n",
       "        <matplotlib.axes._subplots.AxesSubplot object at 0x000002DA02D408E0>,\n",
       "        <matplotlib.axes._subplots.AxesSubplot object at 0x000002DA02D6A100>,\n",
       "        <matplotlib.axes._subplots.AxesSubplot object at 0x000002DA02D9E820>],\n",
       "       [<matplotlib.axes._subplots.AxesSubplot object at 0x000002DA02DC9FA0>,\n",
       "        <matplotlib.axes._subplots.AxesSubplot object at 0x000002DA02DFF760>,\n",
       "        <matplotlib.axes._subplots.AxesSubplot object at 0x000002DA02E28EE0>,\n",
       "        <matplotlib.axes._subplots.AxesSubplot object at 0x000002DA02E5E5E0>]],\n",
       "      dtype=object)"
      ]
     },
     "execution_count": 268,
     "metadata": {},
     "output_type": "execute_result"
    },
    {
     "data": {
      "image/png": "[encoded data removed]",
      "text/plain": [
       "<Figure size 1440x1080 with 16 Axes>"
      ]
     },
     "metadata": {},
     "output_type": "display_data"
    }
   ],
   "source": [
    "song.hist(bins=50,figsize=(20,15))"
   ]
  },
  {
   "cell_type": "code",
   "execution_count": 269,
   "metadata": {
    "colab": {
     "base_uri": "https://localhost:8080/",
     "height": 1000
    },
    "colab_type": "code",
    "id": "PQj6A3L3-u92",
    "outputId": "8fbbd40f-2e17-45b9-b7b2-934fe887c9cf"
   },
   "outputs": [
    {
     "data": {
      "text/plain": [
       "array([[<matplotlib.axes._subplots.AxesSubplot object at 0x000002DA04CF1FD0>,\n",
       "        <matplotlib.axes._subplots.AxesSubplot object at 0x000002DA042B97F0>,\n",
       "        <matplotlib.axes._subplots.AxesSubplot object at 0x000002DA04D8FF70>,\n",
       "        <matplotlib.axes._subplots.AxesSubplot object at 0x000002DA04DB2730>,\n",
       "        <matplotlib.axes._subplots.AxesSubplot object at 0x000002DA059A4EB0>,\n",
       "        <matplotlib.axes._subplots.AxesSubplot object at 0x000002DA059CE5B0>],\n",
       "       [<matplotlib.axes._subplots.AxesSubplot object at 0x000002DA059CE6A0>,\n",
       "        <matplotlib.axes._subplots.AxesSubplot object at 0x000002DA059F8E80>,\n",
       "        <matplotlib.axes._subplots.AxesSubplot object at 0x000002DA05A55D30>,\n",
       "        <matplotlib.axes._subplots.AxesSubplot object at 0x000002DA05A8A4F0>,\n",
       "        <matplotlib.axes._subplots.AxesSubplot object at 0x000002DA05AB4C70>,\n",
       "        <matplotlib.axes._subplots.AxesSubplot object at 0x000002DA05AEA430>],\n",
       "       [<matplotlib.axes._subplots.AxesSubplot object at 0x000002DA05B13BB0>,\n",
       "        <matplotlib.axes._subplots.AxesSubplot object at 0x000002DA05B49370>,\n",
       "        <matplotlib.axes._subplots.AxesSubplot object at 0x000002DA05B73AF0>,\n",
       "        <matplotlib.axes._subplots.AxesSubplot object at 0x000002DA05BA82B0>,\n",
       "        <matplotlib.axes._subplots.AxesSubplot object at 0x000002DA05BD2A30>,\n",
       "        <matplotlib.axes._subplots.AxesSubplot object at 0x000002DA05C061F0>],\n",
       "       [<matplotlib.axes._subplots.AxesSubplot object at 0x000002DA05C31970>,\n",
       "        <matplotlib.axes._subplots.AxesSubplot object at 0x000002DA05C68130>,\n",
       "        <matplotlib.axes._subplots.AxesSubplot object at 0x000002DA05C918B0>,\n",
       "        <matplotlib.axes._subplots.AxesSubplot object at 0x000002DA05CBB0D0>,\n",
       "        <matplotlib.axes._subplots.AxesSubplot object at 0x000002DA05CF07F0>,\n",
       "        <matplotlib.axes._subplots.AxesSubplot object at 0x000002DA05D1AF70>],\n",
       "       [<matplotlib.axes._subplots.AxesSubplot object at 0x000002DA05D50730>,\n",
       "        <matplotlib.axes._subplots.AxesSubplot object at 0x000002DA05D79EB0>,\n",
       "        <matplotlib.axes._subplots.AxesSubplot object at 0x000002DA05DB0670>,\n",
       "        <matplotlib.axes._subplots.AxesSubplot object at 0x000002DA05DD8DF0>,\n",
       "        <matplotlib.axes._subplots.AxesSubplot object at 0x000002DA05E105B0>,\n",
       "        <matplotlib.axes._subplots.AxesSubplot object at 0x000002DA05E39D30>],\n",
       "       [<matplotlib.axes._subplots.AxesSubplot object at 0x000002DA05E6E4F0>,\n",
       "        <matplotlib.axes._subplots.AxesSubplot object at 0x000002DA05E98C70>,\n",
       "        <matplotlib.axes._subplots.AxesSubplot object at 0x000002DA05ECE430>,\n",
       "        <matplotlib.axes._subplots.AxesSubplot object at 0x000002DA05EF5BB0>,\n",
       "        <matplotlib.axes._subplots.AxesSubplot object at 0x000002DA05F2C370>,\n",
       "        <matplotlib.axes._subplots.AxesSubplot object at 0x000002DA05F55AF0>]],\n",
       "      dtype=object)"
      ]
     },
     "execution_count": 269,
     "metadata": {},
     "output_type": "execute_result"
    },
    {
     "data": {
      "image/png": "[encoded data removed]",
      "text/plain": [
       "<Figure size 864x576 with 36 Axes>"
      ]
     },
     "metadata": {},
     "output_type": "display_data"
    }
   ],
   "source": [
    "from pandas.plotting import scatter_matrix\n",
    "selected_cols = ['popularity', 'danceability', 'energy', 'explicit', 'loudness', 'tempo']\n",
    "scatter_matrix(song[selected_cols],figsize=(12,8))"
   ]
  },
  {
   "cell_type": "markdown",
   "metadata": {
    "colab_type": "text",
    "id": "oQTRs7HjCLh4"
   },
   "source": [
    "Observation:\n",
    "* We are not able to retrieve any useful information due to the data is too large"
   ]
  },
  {
   "cell_type": "markdown",
   "metadata": {
    "colab_type": "text",
    "id": "Q_tAntv1ODVP"
   },
   "source": [
    "## C. Data Preparation"
   ]
  },
  {
   "cell_type": "markdown",
   "metadata": {
    "colab_type": "text",
    "id": "2EVLrXacD7Be"
   },
   "source": [
    "Here i will categorize population into 0(not popular) and 1(popular)\n",
    "\n"
   ]
  },
  {
   "cell_type": "code",
   "execution_count": 270,
   "metadata": {
    "colab": {},
    "colab_type": "code",
    "id": "ouALXTwqD53I"
   },
   "outputs": [],
   "source": [
    "song['popularity'] = [0 if x <= statistics.median(song['popularity']) else 1 for x in song['popularity']]"
   ]
  },
  {
   "cell_type": "markdown",
   "metadata": {
    "colab_type": "text",
    "id": "TaSJF6kSFEhv"
   },
   "source": [
    "Here we will check is there any missing value or normally we call it null value"
   ]
  },
  {
   "cell_type": "code",
   "execution_count": 271,
   "metadata": {
    "colab": {
     "base_uri": "https://localhost:8080/",
     "height": 357
    },
    "colab_type": "code",
    "id": "Y7gtlUt_FB7c",
    "outputId": "a244146c-be86-4a0d-ee6b-d6b96d2ee4d2"
   },
   "outputs": [
    {
     "data": {
      "text/plain": [
       "acousticness        0\n",
       "artists             0\n",
       "danceability        0\n",
       "duration_ms         0\n",
       "energy              0\n",
       "explicit            0\n",
       "id                  0\n",
       "instrumentalness    0\n",
       "key                 0\n",
       "liveness            0\n",
       "loudness            0\n",
       "mode                0\n",
       "name                0\n",
       "popularity          0\n",
       "release_date        0\n",
       "speechiness         0\n",
       "tempo               0\n",
       "valence             0\n",
       "year                0\n",
       "dtype: int64"
      ]
     },
     "execution_count": 271,
     "metadata": {},
     "output_type": "execute_result"
    }
   ],
   "source": [
    "song.isnull().sum()"
   ]
  },
  {
   "cell_type": "markdown",
   "metadata": {
    "colab_type": "text",
    "id": "pOILkpZMJA-m"
   },
   "source": [
    "No missing value or null value in the data set"
   ]
  },
  {
   "cell_type": "markdown",
   "metadata": {
    "colab_type": "text",
    "id": "NENve03taYqP"
   },
   "source": [
    "Before we split the data into training set and testing set. We separate the output(y) from input(x). At the same time i also drop away data that is in string type because it is not important or useful like artists, id, name, release_date and also data which not important like year."
   ]
  },
  {
   "cell_type": "code",
   "execution_count": 272,
   "metadata": {
    "colab": {},
    "colab_type": "code",
    "id": "3yvmwg-Yfe5l"
   },
   "outputs": [],
   "source": [
    "X = song.drop(['popularity', 'artists', 'id', 'name', 'release_date', 'year'], axis=1)\n",
    "y = song.popularity"
   ]
  },
  {
   "cell_type": "code",
   "execution_count": 273,
   "metadata": {
    "colab": {
     "base_uri": "https://localhost:8080/",
     "height": 68
    },
    "colab_type": "code",
    "id": "g2foPQsigcdO",
    "outputId": "376a8d96-1f43-462d-c13a-d5d61fc05b9d"
   },
   "outputs": [
    {
     "name": "stdout",
     "output_type": "stream",
     "text": [
      "full set shape= (169909, 13)\n",
      "train shape= (135927, 13)\n",
      "test shape= (33982, 13)\n"
     ]
    }
   ],
   "source": [
    "X_train, X_test, y_train, y_test = train_test_split(X, y, test_size=0.2, random_state=100)\n",
    "print ('full set shape=', X.shape)\n",
    "print ('train shape=', X_train.shape)\n",
    "print ('test shape=', X_test.shape)"
   ]
  },
  {
   "cell_type": "code",
   "execution_count": 274,
   "metadata": {},
   "outputs": [
    {
     "data": {
      "text/html": [
       "<div>\n",
       "<style scoped>\n",
       "    .dataframe tbody tr th:only-of-type {\n",
       "        vertical-align: middle;\n",
       "    }\n",
       "\n",
       "    .dataframe tbody tr th {\n",
       "        vertical-align: top;\n",
       "    }\n",
       "\n",
       "    .dataframe thead th {\n",
       "        text-align: right;\n",
       "    }\n",
       "</style>\n",
       "<table border=\"1\" class=\"dataframe\">\n",
       "  <thead>\n",
       "    <tr style=\"text-align: right;\">\n",
       "      <th></th>\n",
       "      <th>acousticness</th>\n",
       "      <th>danceability</th>\n",
       "      <th>duration_ms</th>\n",
       "      <th>energy</th>\n",
       "      <th>explicit</th>\n",
       "      <th>instrumentalness</th>\n",
       "      <th>key</th>\n",
       "      <th>liveness</th>\n",
       "      <th>loudness</th>\n",
       "      <th>mode</th>\n",
       "      <th>speechiness</th>\n",
       "      <th>tempo</th>\n",
       "      <th>valence</th>\n",
       "    </tr>\n",
       "  </thead>\n",
       "  <tbody>\n",
       "    <tr>\n",
       "      <th>12771</th>\n",
       "      <td>0.03200</td>\n",
       "      <td>0.442</td>\n",
       "      <td>249933</td>\n",
       "      <td>0.428</td>\n",
       "      <td>0</td>\n",
       "      <td>0.004940</td>\n",
       "      <td>0</td>\n",
       "      <td>0.0964</td>\n",
       "      <td>-14.211</td>\n",
       "      <td>1</td>\n",
       "      <td>0.0347</td>\n",
       "      <td>121.453</td>\n",
       "      <td>0.384</td>\n",
       "    </tr>\n",
       "    <tr>\n",
       "      <th>102731</th>\n",
       "      <td>0.10100</td>\n",
       "      <td>0.560</td>\n",
       "      <td>255880</td>\n",
       "      <td>0.544</td>\n",
       "      <td>0</td>\n",
       "      <td>0.000074</td>\n",
       "      <td>5</td>\n",
       "      <td>0.2170</td>\n",
       "      <td>-11.097</td>\n",
       "      <td>0</td>\n",
       "      <td>0.3330</td>\n",
       "      <td>111.161</td>\n",
       "      <td>0.685</td>\n",
       "    </tr>\n",
       "    <tr>\n",
       "      <th>160200</th>\n",
       "      <td>0.00413</td>\n",
       "      <td>0.570</td>\n",
       "      <td>180267</td>\n",
       "      <td>0.927</td>\n",
       "      <td>0</td>\n",
       "      <td>0.000000</td>\n",
       "      <td>7</td>\n",
       "      <td>0.1520</td>\n",
       "      <td>-2.024</td>\n",
       "      <td>1</td>\n",
       "      <td>0.0382</td>\n",
       "      <td>122.868</td>\n",
       "      <td>0.579</td>\n",
       "    </tr>\n",
       "    <tr>\n",
       "      <th>40564</th>\n",
       "      <td>0.99400</td>\n",
       "      <td>0.312</td>\n",
       "      <td>148240</td>\n",
       "      <td>0.211</td>\n",
       "      <td>0</td>\n",
       "      <td>0.923000</td>\n",
       "      <td>3</td>\n",
       "      <td>0.3550</td>\n",
       "      <td>-15.782</td>\n",
       "      <td>0</td>\n",
       "      <td>0.0782</td>\n",
       "      <td>79.054</td>\n",
       "      <td>0.511</td>\n",
       "    </tr>\n",
       "    <tr>\n",
       "      <th>17516</th>\n",
       "      <td>0.70100</td>\n",
       "      <td>0.612</td>\n",
       "      <td>80720</td>\n",
       "      <td>0.106</td>\n",
       "      <td>0</td>\n",
       "      <td>0.000000</td>\n",
       "      <td>0</td>\n",
       "      <td>0.2810</td>\n",
       "      <td>-29.705</td>\n",
       "      <td>1</td>\n",
       "      <td>0.7720</td>\n",
       "      <td>135.338</td>\n",
       "      <td>0.755</td>\n",
       "    </tr>\n",
       "    <tr>\n",
       "      <th>...</th>\n",
       "      <td>...</td>\n",
       "      <td>...</td>\n",
       "      <td>...</td>\n",
       "      <td>...</td>\n",
       "      <td>...</td>\n",
       "      <td>...</td>\n",
       "      <td>...</td>\n",
       "      <td>...</td>\n",
       "      <td>...</td>\n",
       "      <td>...</td>\n",
       "      <td>...</td>\n",
       "      <td>...</td>\n",
       "      <td>...</td>\n",
       "    </tr>\n",
       "    <tr>\n",
       "      <th>82270</th>\n",
       "      <td>0.28900</td>\n",
       "      <td>0.351</td>\n",
       "      <td>165467</td>\n",
       "      <td>0.749</td>\n",
       "      <td>0</td>\n",
       "      <td>0.000000</td>\n",
       "      <td>2</td>\n",
       "      <td>0.0952</td>\n",
       "      <td>-9.435</td>\n",
       "      <td>1</td>\n",
       "      <td>0.0628</td>\n",
       "      <td>160.673</td>\n",
       "      <td>0.967</td>\n",
       "    </tr>\n",
       "    <tr>\n",
       "      <th>65615</th>\n",
       "      <td>0.34300</td>\n",
       "      <td>0.646</td>\n",
       "      <td>154693</td>\n",
       "      <td>0.816</td>\n",
       "      <td>0</td>\n",
       "      <td>0.815000</td>\n",
       "      <td>2</td>\n",
       "      <td>0.0372</td>\n",
       "      <td>-7.474</td>\n",
       "      <td>1</td>\n",
       "      <td>0.0479</td>\n",
       "      <td>89.926</td>\n",
       "      <td>0.518</td>\n",
       "    </tr>\n",
       "    <tr>\n",
       "      <th>77655</th>\n",
       "      <td>0.10300</td>\n",
       "      <td>0.418</td>\n",
       "      <td>355627</td>\n",
       "      <td>0.344</td>\n",
       "      <td>0</td>\n",
       "      <td>0.198000</td>\n",
       "      <td>7</td>\n",
       "      <td>0.2140</td>\n",
       "      <td>-8.420</td>\n",
       "      <td>1</td>\n",
       "      <td>0.0391</td>\n",
       "      <td>111.709</td>\n",
       "      <td>0.231</td>\n",
       "    </tr>\n",
       "    <tr>\n",
       "      <th>56088</th>\n",
       "      <td>0.96600</td>\n",
       "      <td>0.509</td>\n",
       "      <td>548813</td>\n",
       "      <td>0.183</td>\n",
       "      <td>0</td>\n",
       "      <td>0.027800</td>\n",
       "      <td>0</td>\n",
       "      <td>0.1130</td>\n",
       "      <td>-16.363</td>\n",
       "      <td>1</td>\n",
       "      <td>0.0839</td>\n",
       "      <td>81.299</td>\n",
       "      <td>0.253</td>\n",
       "    </tr>\n",
       "    <tr>\n",
       "      <th>38408</th>\n",
       "      <td>0.47700</td>\n",
       "      <td>0.789</td>\n",
       "      <td>214880</td>\n",
       "      <td>0.709</td>\n",
       "      <td>0</td>\n",
       "      <td>0.000059</td>\n",
       "      <td>10</td>\n",
       "      <td>0.0434</td>\n",
       "      <td>-7.345</td>\n",
       "      <td>1</td>\n",
       "      <td>0.0471</td>\n",
       "      <td>97.198</td>\n",
       "      <td>0.952</td>\n",
       "    </tr>\n",
       "  </tbody>\n",
       "</table>\n",
       "<p>135927 rows × 13 columns</p>\n",
       "</div>"
      ],
      "text/plain": [
       "        acousticness  danceability  duration_ms  energy  explicit  \\\n",
       "12771        0.03200         0.442       249933   0.428         0   \n",
       "102731       0.10100         0.560       255880   0.544         0   \n",
       "160200       0.00413         0.570       180267   0.927         0   \n",
       "40564        0.99400         0.312       148240   0.211         0   \n",
       "17516        0.70100         0.612        80720   0.106         0   \n",
       "...              ...           ...          ...     ...       ...   \n",
       "82270        0.28900         0.351       165467   0.749         0   \n",
       "65615        0.34300         0.646       154693   0.816         0   \n",
       "77655        0.10300         0.418       355627   0.344         0   \n",
       "56088        0.96600         0.509       548813   0.183         0   \n",
       "38408        0.47700         0.789       214880   0.709         0   \n",
       "\n",
       "        instrumentalness  key  liveness  loudness  mode  speechiness    tempo  \\\n",
       "12771           0.004940    0    0.0964   -14.211     1       0.0347  121.453   \n",
       "102731          0.000074    5    0.2170   -11.097     0       0.3330  111.161   \n",
       "160200          0.000000    7    0.1520    -2.024     1       0.0382  122.868   \n",
       "40564           0.923000    3    0.3550   -15.782     0       0.0782   79.054   \n",
       "17516           0.000000    0    0.2810   -29.705     1       0.7720  135.338   \n",
       "...                  ...  ...       ...       ...   ...          ...      ...   \n",
       "82270           0.000000    2    0.0952    -9.435     1       0.0628  160.673   \n",
       "65615           0.815000    2    0.0372    -7.474     1       0.0479   89.926   \n",
       "77655           0.198000    7    0.2140    -8.420     1       0.0391  111.709   \n",
       "56088           0.027800    0    0.1130   -16.363     1       0.0839   81.299   \n",
       "38408           0.000059   10    0.0434    -7.345     1       0.0471   97.198   \n",
       "\n",
       "        valence  \n",
       "12771     0.384  \n",
       "102731    0.685  \n",
       "160200    0.579  \n",
       "40564     0.511  \n",
       "17516     0.755  \n",
       "...         ...  \n",
       "82270     0.967  \n",
       "65615     0.518  \n",
       "77655     0.231  \n",
       "56088     0.253  \n",
       "38408     0.952  \n",
       "\n",
       "[135927 rows x 13 columns]"
      ]
     },
     "execution_count": 274,
     "metadata": {},
     "output_type": "execute_result"
    }
   ],
   "source": [
    "X_train"
   ]
  },
  {
   "cell_type": "code",
   "execution_count": 275,
   "metadata": {},
   "outputs": [
    {
     "data": {
      "text/html": [
       "<div>\n",
       "<style scoped>\n",
       "    .dataframe tbody tr th:only-of-type {\n",
       "        vertical-align: middle;\n",
       "    }\n",
       "\n",
       "    .dataframe tbody tr th {\n",
       "        vertical-align: top;\n",
       "    }\n",
       "\n",
       "    .dataframe thead th {\n",
       "        text-align: right;\n",
       "    }\n",
       "</style>\n",
       "<table border=\"1\" class=\"dataframe\">\n",
       "  <thead>\n",
       "    <tr style=\"text-align: right;\">\n",
       "      <th></th>\n",
       "      <th>acousticness</th>\n",
       "      <th>danceability</th>\n",
       "      <th>duration_ms</th>\n",
       "      <th>energy</th>\n",
       "      <th>explicit</th>\n",
       "      <th>instrumentalness</th>\n",
       "      <th>key</th>\n",
       "      <th>liveness</th>\n",
       "      <th>loudness</th>\n",
       "      <th>mode</th>\n",
       "      <th>speechiness</th>\n",
       "      <th>tempo</th>\n",
       "      <th>valence</th>\n",
       "    </tr>\n",
       "  </thead>\n",
       "  <tbody>\n",
       "    <tr>\n",
       "      <th>37683</th>\n",
       "      <td>0.158</td>\n",
       "      <td>0.605</td>\n",
       "      <td>270800</td>\n",
       "      <td>0.737</td>\n",
       "      <td>0</td>\n",
       "      <td>0.000254</td>\n",
       "      <td>5</td>\n",
       "      <td>0.0989</td>\n",
       "      <td>-8.917</td>\n",
       "      <td>1</td>\n",
       "      <td>0.0428</td>\n",
       "      <td>98.428</td>\n",
       "      <td>0.375</td>\n",
       "    </tr>\n",
       "    <tr>\n",
       "      <th>5821</th>\n",
       "      <td>0.168</td>\n",
       "      <td>0.430</td>\n",
       "      <td>276333</td>\n",
       "      <td>0.634</td>\n",
       "      <td>0</td>\n",
       "      <td>0.000011</td>\n",
       "      <td>2</td>\n",
       "      <td>0.8980</td>\n",
       "      <td>-10.458</td>\n",
       "      <td>1</td>\n",
       "      <td>0.0462</td>\n",
       "      <td>123.382</td>\n",
       "      <td>0.327</td>\n",
       "    </tr>\n",
       "    <tr>\n",
       "      <th>113933</th>\n",
       "      <td>0.043</td>\n",
       "      <td>0.542</td>\n",
       "      <td>335840</td>\n",
       "      <td>0.842</td>\n",
       "      <td>1</td>\n",
       "      <td>0.000153</td>\n",
       "      <td>1</td>\n",
       "      <td>0.1730</td>\n",
       "      <td>-7.137</td>\n",
       "      <td>1</td>\n",
       "      <td>0.1730</td>\n",
       "      <td>104.772</td>\n",
       "      <td>0.301</td>\n",
       "    </tr>\n",
       "    <tr>\n",
       "      <th>26214</th>\n",
       "      <td>0.961</td>\n",
       "      <td>0.578</td>\n",
       "      <td>290907</td>\n",
       "      <td>0.261</td>\n",
       "      <td>0</td>\n",
       "      <td>0.861000</td>\n",
       "      <td>0</td>\n",
       "      <td>0.0933</td>\n",
       "      <td>-14.307</td>\n",
       "      <td>0</td>\n",
       "      <td>0.0342</td>\n",
       "      <td>93.947</td>\n",
       "      <td>0.449</td>\n",
       "    </tr>\n",
       "    <tr>\n",
       "      <th>57516</th>\n",
       "      <td>0.511</td>\n",
       "      <td>0.677</td>\n",
       "      <td>146653</td>\n",
       "      <td>0.641</td>\n",
       "      <td>0</td>\n",
       "      <td>0.000000</td>\n",
       "      <td>1</td>\n",
       "      <td>0.2750</td>\n",
       "      <td>-6.113</td>\n",
       "      <td>0</td>\n",
       "      <td>0.0433</td>\n",
       "      <td>128.015</td>\n",
       "      <td>0.795</td>\n",
       "    </tr>\n",
       "    <tr>\n",
       "      <th>...</th>\n",
       "      <td>...</td>\n",
       "      <td>...</td>\n",
       "      <td>...</td>\n",
       "      <td>...</td>\n",
       "      <td>...</td>\n",
       "      <td>...</td>\n",
       "      <td>...</td>\n",
       "      <td>...</td>\n",
       "      <td>...</td>\n",
       "      <td>...</td>\n",
       "      <td>...</td>\n",
       "      <td>...</td>\n",
       "      <td>...</td>\n",
       "    </tr>\n",
       "    <tr>\n",
       "      <th>17311</th>\n",
       "      <td>0.962</td>\n",
       "      <td>0.409</td>\n",
       "      <td>189827</td>\n",
       "      <td>0.194</td>\n",
       "      <td>0</td>\n",
       "      <td>0.000490</td>\n",
       "      <td>3</td>\n",
       "      <td>0.1940</td>\n",
       "      <td>-19.877</td>\n",
       "      <td>1</td>\n",
       "      <td>0.0509</td>\n",
       "      <td>117.342</td>\n",
       "      <td>0.288</td>\n",
       "    </tr>\n",
       "    <tr>\n",
       "      <th>164330</th>\n",
       "      <td>0.496</td>\n",
       "      <td>0.521</td>\n",
       "      <td>374133</td>\n",
       "      <td>0.416</td>\n",
       "      <td>0</td>\n",
       "      <td>0.000428</td>\n",
       "      <td>7</td>\n",
       "      <td>0.2650</td>\n",
       "      <td>-10.898</td>\n",
       "      <td>0</td>\n",
       "      <td>0.0260</td>\n",
       "      <td>139.282</td>\n",
       "      <td>0.611</td>\n",
       "    </tr>\n",
       "    <tr>\n",
       "      <th>17576</th>\n",
       "      <td>0.894</td>\n",
       "      <td>0.510</td>\n",
       "      <td>505549</td>\n",
       "      <td>0.118</td>\n",
       "      <td>0</td>\n",
       "      <td>0.000002</td>\n",
       "      <td>10</td>\n",
       "      <td>0.3080</td>\n",
       "      <td>-21.856</td>\n",
       "      <td>1</td>\n",
       "      <td>0.3630</td>\n",
       "      <td>121.080</td>\n",
       "      <td>0.227</td>\n",
       "    </tr>\n",
       "    <tr>\n",
       "      <th>147968</th>\n",
       "      <td>0.289</td>\n",
       "      <td>0.767</td>\n",
       "      <td>206280</td>\n",
       "      <td>0.700</td>\n",
       "      <td>0</td>\n",
       "      <td>0.000114</td>\n",
       "      <td>8</td>\n",
       "      <td>0.0432</td>\n",
       "      <td>-3.603</td>\n",
       "      <td>1</td>\n",
       "      <td>0.0399</td>\n",
       "      <td>114.884</td>\n",
       "      <td>0.791</td>\n",
       "    </tr>\n",
       "    <tr>\n",
       "      <th>98854</th>\n",
       "      <td>0.530</td>\n",
       "      <td>0.503</td>\n",
       "      <td>185267</td>\n",
       "      <td>0.144</td>\n",
       "      <td>0</td>\n",
       "      <td>0.926000</td>\n",
       "      <td>4</td>\n",
       "      <td>0.1210</td>\n",
       "      <td>-17.531</td>\n",
       "      <td>0</td>\n",
       "      <td>0.0599</td>\n",
       "      <td>96.564</td>\n",
       "      <td>0.279</td>\n",
       "    </tr>\n",
       "  </tbody>\n",
       "</table>\n",
       "<p>33982 rows × 13 columns</p>\n",
       "</div>"
      ],
      "text/plain": [
       "        acousticness  danceability  duration_ms  energy  explicit  \\\n",
       "37683          0.158         0.605       270800   0.737         0   \n",
       "5821           0.168         0.430       276333   0.634         0   \n",
       "113933         0.043         0.542       335840   0.842         1   \n",
       "26214          0.961         0.578       290907   0.261         0   \n",
       "57516          0.511         0.677       146653   0.641         0   \n",
       "...              ...           ...          ...     ...       ...   \n",
       "17311          0.962         0.409       189827   0.194         0   \n",
       "164330         0.496         0.521       374133   0.416         0   \n",
       "17576          0.894         0.510       505549   0.118         0   \n",
       "147968         0.289         0.767       206280   0.700         0   \n",
       "98854          0.530         0.503       185267   0.144         0   \n",
       "\n",
       "        instrumentalness  key  liveness  loudness  mode  speechiness    tempo  \\\n",
       "37683           0.000254    5    0.0989    -8.917     1       0.0428   98.428   \n",
       "5821            0.000011    2    0.8980   -10.458     1       0.0462  123.382   \n",
       "113933          0.000153    1    0.1730    -7.137     1       0.1730  104.772   \n",
       "26214           0.861000    0    0.0933   -14.307     0       0.0342   93.947   \n",
       "57516           0.000000    1    0.2750    -6.113     0       0.0433  128.015   \n",
       "...                  ...  ...       ...       ...   ...          ...      ...   \n",
       "17311           0.000490    3    0.1940   -19.877     1       0.0509  117.342   \n",
       "164330          0.000428    7    0.2650   -10.898     0       0.0260  139.282   \n",
       "17576           0.000002   10    0.3080   -21.856     1       0.3630  121.080   \n",
       "147968          0.000114    8    0.0432    -3.603     1       0.0399  114.884   \n",
       "98854           0.926000    4    0.1210   -17.531     0       0.0599   96.564   \n",
       "\n",
       "        valence  \n",
       "37683     0.375  \n",
       "5821      0.327  \n",
       "113933    0.301  \n",
       "26214     0.449  \n",
       "57516     0.795  \n",
       "...         ...  \n",
       "17311     0.288  \n",
       "164330    0.611  \n",
       "17576     0.227  \n",
       "147968    0.791  \n",
       "98854     0.279  \n",
       "\n",
       "[33982 rows x 13 columns]"
      ]
     },
     "execution_count": 275,
     "metadata": {},
     "output_type": "execute_result"
    }
   ],
   "source": [
    "X_test"
   ]
  },
  {
   "cell_type": "markdown",
   "metadata": {
    "colab_type": "text",
    "id": "bSLSXzEXCLzG"
   },
   "source": [
    "Before continue with the prediction, use scaling to make sure all attributes are standardize between each attributes and able to uniformly evaluated"
   ]
  },
  {
   "cell_type": "code",
   "execution_count": 276,
   "metadata": {
    "colab": {
     "base_uri": "https://localhost:8080/",
     "height": 153
    },
    "colab_type": "code",
    "id": "UeA27zROpl3Z",
    "outputId": "3ea29092-cf8c-4b4a-af2d-98afa9d5a607"
   },
   "outputs": [
    {
     "name": "stdout",
     "output_type": "stream",
     "text": [
      ">>> Mean of all columns:\n",
      " [ 5.64557560e-17 -1.88002895e-16  6.63877872e-18 -9.94771330e-17\n",
      " -6.90014796e-18 -1.05174982e-16 -5.41557067e-17 -2.38682391e-16\n",
      "  1.61944382e-16 -9.49293082e-17 -6.83741934e-17  6.41922855e-17\n",
      "  4.18060101e-17]\n",
      "\n",
      ">>> Std of all columns:\n",
      " [1. 1. 1. 1. 1. 1. 1. 1. 1. 1. 1. 1. 1.]\n"
     ]
    }
   ],
   "source": [
    "scaler = StandardScaler(copy = False)\n",
    "X_train = scaler.fit_transform(X_train)\n",
    "X_test = scaler.transform(X_test)\n",
    "print('>>> Mean of all columns:\\n', X_train.mean(axis=0))\n",
    "print('\\n>>> Std of all columns:\\n', X_train.std(axis=0))"
   ]
  },
  {
   "cell_type": "code",
   "execution_count": 277,
   "metadata": {},
   "outputs": [
    {
     "name": "stdout",
     "output_type": "stream",
     "text": [
      "[-1.22398321 -0.54902506  0.1538757  -0.22944134 -0.30571335 -0.5065219\n",
      " -1.47927473 -0.6240376  -0.50436343  0.64112487 -0.39592225  0.14534453\n",
      " -0.56631035]\n"
     ]
    }
   ],
   "source": [
    "print(X_train[0])"
   ]
  },
  {
   "cell_type": "code",
   "execution_count": 278,
   "metadata": {},
   "outputs": [
    {
     "name": "stdout",
     "output_type": "stream",
     "text": [
      "[[-0.88927839  0.38034706  0.32611915 ... -0.34173179 -0.60415096\n",
      "  -0.60059935]\n",
      " [-0.86271452 -0.6174451   0.37179045 ... -0.31898517  0.20813614\n",
      "  -0.78347404]\n",
      " [-1.19476295  0.02114188  0.86298186 ...  0.5293297  -0.39764502\n",
      "  -0.88253116]\n",
      " ...\n",
      " [ 1.06582279 -0.16131154  2.26381879 ...  1.80046397  0.13320286\n",
      "  -1.16446296]\n",
      " [-0.54129163  1.30401751 -0.2064513  ... -0.36113331 -0.06848548\n",
      "   0.98431455]\n",
      " [ 0.09889775 -0.20122323 -0.37989989 ... -0.2273297  -0.66482673\n",
      "  -0.96634872]]\n"
     ]
    }
   ],
   "source": [
    "print(X_test)"
   ]
  },
  {
   "cell_type": "code",
   "execution_count": 279,
   "metadata": {},
   "outputs": [
    {
     "data": {
      "text/plain": [
       "12771     0\n",
       "102731    1\n",
       "160200    1\n",
       "40564     0\n",
       "17516     0\n",
       "         ..\n",
       "82270     1\n",
       "65615     0\n",
       "77655     1\n",
       "56088     0\n",
       "38408     1\n",
       "Name: popularity, Length: 135927, dtype: int64"
      ]
     },
     "execution_count": 279,
     "metadata": {},
     "output_type": "execute_result"
    }
   ],
   "source": [
    "y_train"
   ]
  },
  {
   "cell_type": "code",
   "execution_count": 280,
   "metadata": {},
   "outputs": [
    {
     "data": {
      "text/plain": [
       "37683     1\n",
       "5821      1\n",
       "113933    1\n",
       "26214     0\n",
       "57516     0\n",
       "         ..\n",
       "17311     0\n",
       "164330    0\n",
       "17576     0\n",
       "147968    1\n",
       "98854     0\n",
       "Name: popularity, Length: 33982, dtype: int64"
      ]
     },
     "execution_count": 280,
     "metadata": {},
     "output_type": "execute_result"
    }
   ],
   "source": [
    "y_test"
   ]
  },
  {
   "cell_type": "markdown",
   "metadata": {
    "colab_type": "text",
    "id": "miIkkk7aODVP"
   },
   "source": [
    "## D. Modelling"
   ]
  },
  {
   "cell_type": "markdown",
   "metadata": {
    "colab_type": "text",
    "id": "usLj8dPGFNkh"
   },
   "source": [
    "### K-Nearest Neighbors Algorithm"
   ]
  },
  {
   "cell_type": "code",
   "execution_count": 281,
   "metadata": {
    "colab": {
     "base_uri": "https://localhost:8080/",
     "height": 68
    },
    "colab_type": "code",
    "id": "rII8v2vUEk8d",
    "outputId": "c6fb5c15-d36a-416b-ff05-f166837d5417"
   },
   "outputs": [
    {
     "data": {
      "text/plain": [
       "KNeighborsClassifier()"
      ]
     },
     "execution_count": 281,
     "metadata": {},
     "output_type": "execute_result"
    }
   ],
   "source": [
    "from sklearn.neighbors import KNeighborsClassifier\n",
    "knn = KNeighborsClassifier()\n",
    "knn.fit(X_train, y_train)"
   ]
  },
  {
   "cell_type": "markdown",
   "metadata": {
    "colab_type": "text",
    "id": "elG0mtSqb8lP"
   },
   "source": [
    "### Support Vector Classifier"
   ]
  },
  {
   "cell_type": "code",
   "execution_count": 282,
   "metadata": {
    "colab": {
     "base_uri": "https://localhost:8080/",
     "height": 85
    },
    "colab_type": "code",
    "id": "Yt5KUDN6cDR1",
    "outputId": "a9dc5e43-dda7-4b93-baf8-b6db0be0829f"
   },
   "outputs": [
    {
     "data": {
      "text/plain": [
       "SVC()"
      ]
     },
     "execution_count": 282,
     "metadata": {},
     "output_type": "execute_result"
    }
   ],
   "source": [
    "from sklearn.svm import SVC\n",
    "svc = SVC()\n",
    "svc.fit(X_train, y_train)"
   ]
  },
  {
   "cell_type": "markdown",
   "metadata": {
    "colab_type": "text",
    "id": "pZJWdCXuODVP"
   },
   "source": [
    "## E. Evaluation"
   ]
  },
  {
   "cell_type": "markdown",
   "metadata": {
    "colab_type": "text",
    "id": "Wrq3iQNFQdrp"
   },
   "source": [
    "We want to see the training accuracy of KNN and SVC"
   ]
  },
  {
   "cell_type": "markdown",
   "metadata": {
    "colab_type": "text",
    "id": "do6zOhR6FC18"
   },
   "source": [
    "#### K-Nearest Neighbors Training Accuracy"
   ]
  },
  {
   "cell_type": "code",
   "execution_count": 283,
   "metadata": {
    "colab": {
     "base_uri": "https://localhost:8080/",
     "height": 34
    },
    "colab_type": "code",
    "id": "Y36hU1UhE_ft",
    "outputId": "6a0bc8df-539b-402c-cf3a-c4b4098c5270"
   },
   "outputs": [
    {
     "name": "stdout",
     "output_type": "stream",
     "text": [
      "Training accuracy of K-Nerest Neighbors : 0.8311\n"
     ]
    }
   ],
   "source": [
    "pred_knn = knn.predict(X_train)\n",
    "train_acc_knn = accuracy_score(y_train, pred_knn)\n",
    "print(\"Training accuracy of K-Nerest Neighbors : {:.4f}\".format(train_acc_knn))"
   ]
  },
  {
   "cell_type": "markdown",
   "metadata": {},
   "source": [
    "#### K-fold cross validation"
   ]
  },
  {
   "cell_type": "code",
   "execution_count": 284,
   "metadata": {},
   "outputs": [
    {
     "name": "stdout",
     "output_type": "stream",
     "text": [
      "KNeighborsClassifier: validation accuracy  = 0.7582\n",
      "KNeighborsClassifier: validation recall    = 0.7628\n",
      "KNeighborsClassifier: validation precision = 0.7564\n",
      "KNeighborsClassifier: validation f1        = 0.7596\n"
     ]
    }
   ],
   "source": [
    "knn_result = cross_validate (knn, X_train, y_train, cv=5, scoring=['accuracy', 'precision', 'recall', 'f1'])\n",
    "print(\"KNeighborsClassifier: validation accuracy  = {:.4f}\".format(knn_result['test_accuracy'].mean()))\n",
    "print('KNeighborsClassifier: validation recall    = {:.4f}'.format(knn_result['test_recall'].mean()))\n",
    "print('KNeighborsClassifier: validation precision = {:.4f}'.format(knn_result['test_precision'].mean()))\n",
    "print('KNeighborsClassifier: validation f1        = {:.4f}'.format(knn_result['test_f1'].mean()))"
   ]
  },
  {
   "cell_type": "markdown",
   "metadata": {},
   "source": [
    "#### Testing Accuracy"
   ]
  },
  {
   "cell_type": "code",
   "execution_count": 285,
   "metadata": {},
   "outputs": [
    {
     "name": "stdout",
     "output_type": "stream",
     "text": [
      "Testing accuracy of KNeighbors Classifier : 0.7632\n"
     ]
    }
   ],
   "source": [
    "pred_knn = knn.predict(X_test)\n",
    "test_acc_knn = accuracy_score(y_test, pred_knn)\n",
    "print(\"Testing accuracy of KNeighbors Classifier : {:.4f}\".format(test_acc_knn))"
   ]
  },
  {
   "cell_type": "code",
   "execution_count": 286,
   "metadata": {},
   "outputs": [
    {
     "data": {
      "text/plain": [
       "array([[13014,  4090],\n",
       "       [ 3958, 12920]], dtype=int64)"
      ]
     },
     "execution_count": 286,
     "metadata": {},
     "output_type": "execute_result"
    }
   ],
   "source": [
    "from sklearn.metrics import confusion_matrix\n",
    "cm = confusion_matrix(y_test, pred_knn)\n",
    "cm"
   ]
  },
  {
   "cell_type": "markdown",
   "metadata": {
    "colab_type": "text",
    "id": "63xkLmGDcIxl"
   },
   "source": [
    "#### Support Vector Classifier Training Accuracy"
   ]
  },
  {
   "cell_type": "code",
   "execution_count": 287,
   "metadata": {
    "colab": {
     "base_uri": "https://localhost:8080/",
     "height": 34
    },
    "colab_type": "code",
    "id": "WoYJ-RF7cVJV",
    "outputId": "4b621363-92db-4da6-f067-02607ec1e9e4"
   },
   "outputs": [
    {
     "name": "stdout",
     "output_type": "stream",
     "text": [
      "Training accuracy of SVC : 0.7882\n"
     ]
    }
   ],
   "source": [
    "pred_svc = svc.predict(X_train)\n",
    "train_acc_svc = accuracy_score(y_train, pred_svc)\n",
    "print(\"Training accuracy of SVC : {:.4f}\".format(train_acc_svc))"
   ]
  },
  {
   "cell_type": "markdown",
   "metadata": {},
   "source": [
    "#### K-fold cross validation"
   ]
  },
  {
   "cell_type": "code",
   "execution_count": 288,
   "metadata": {},
   "outputs": [
    {
     "name": "stdout",
     "output_type": "stream",
     "text": [
      "SupportVectorClassifier: validation accuracy  = 0.7844\n",
      "SupportVectorClassifier: validation recall    = 0.7939\n",
      "SupportVectorClassifier: validation precision = 0.7795\n",
      "SupportVectorClassifier: validation f1        = 0.7866\n"
     ]
    }
   ],
   "source": [
    "svc_result = cross_validate (svc, X_train, y_train, cv=5, scoring=['accuracy', 'precision', 'recall', 'f1'])\n",
    "print(\"SupportVectorClassifier: validation accuracy  = {:.4f}\".format(svc_result['test_accuracy'].mean()))\n",
    "print('SupportVectorClassifier: validation recall    = {:.4f}'.format(svc_result['test_recall'].mean()))\n",
    "print('SupportVectorClassifier: validation precision = {:.4f}'.format(svc_result['test_precision'].mean()))\n",
    "print('SupportVectorClassifier: validation f1        = {:.4f}'.format(svc_result['test_f1'].mean()))"
   ]
  },
  {
   "cell_type": "markdown",
   "metadata": {},
   "source": [
    "#### Testing Accuracy"
   ]
  },
  {
   "cell_type": "code",
   "execution_count": 289,
   "metadata": {},
   "outputs": [
    {
     "name": "stdout",
     "output_type": "stream",
     "text": [
      "Testing accuracy of SVC : 0.7852\n"
     ]
    }
   ],
   "source": [
    "pred_svc = svc.predict(X_test)\n",
    "test_acc_svc = accuracy_score(y_test, pred_svc)\n",
    "print(\"Testing accuracy of SVC : {:.4f}\".format(test_acc_svc))"
   ]
  },
  {
   "cell_type": "code",
   "execution_count": 290,
   "metadata": {},
   "outputs": [
    {
     "data": {
      "text/plain": [
       "array([[13313,  3791],\n",
       "       [ 3507, 13371]], dtype=int64)"
      ]
     },
     "execution_count": 290,
     "metadata": {},
     "output_type": "execute_result"
    }
   ],
   "source": [
    "from sklearn.metrics import confusion_matrix\n",
    "cm = confusion_matrix(y_test, pred_svc)\n",
    "cm"
   ]
  },
  {
   "cell_type": "markdown",
   "metadata": {},
   "source": [
    "#### Comparing model"
   ]
  },
  {
   "cell_type": "code",
   "execution_count": 291,
   "metadata": {
    "colab": {},
    "colab_type": "code",
    "id": "Hdww0esxQdru",
    "outputId": "ab5b01d3-7920-48b8-a53a-b290fa9a9be2"
   },
   "outputs": [
    {
     "name": "stdout",
     "output_type": "stream",
     "text": [
      "Computing scores for KNN...done\n",
      "Computing scores for SVC...done\n"
     ]
    }
   ],
   "source": [
    "print('Computing scores for KNN...', end = '')\n",
    "y_scores_knn = cross_val_predict (knn, X_train, y_train, cv=5, method = 'predict_proba')\n",
    "print('done')\n",
    "print('Computing scores for SVC...', end = '')\n",
    "y_scores_svc = cross_val_predict (svc, X_train, y_train, cv=5, method = 'decision_function')\n",
    "print('done')"
   ]
  },
  {
   "cell_type": "code",
   "execution_count": 292,
   "metadata": {
    "colab": {},
    "colab_type": "code",
    "id": "9JvHXU9QQdrw"
   },
   "outputs": [],
   "source": [
    "y_scores_knn = y_scores_knn[:, 1]"
   ]
  },
  {
   "cell_type": "code",
   "execution_count": 293,
   "metadata": {
    "colab": {},
    "colab_type": "code",
    "id": "geAIbHHmQdry"
   },
   "outputs": [],
   "source": [
    "from sklearn.metrics import roc_curve\n",
    "fpr_knn, tpr_knn, thresholds_knn = roc_curve (y_train, y_scores_knn)\n",
    "fpr_svc, tpr_svc, thresholds_svc = roc_curve (y_train, y_scores_svc)"
   ]
  },
  {
   "cell_type": "code",
   "execution_count": 294,
   "metadata": {
    "colab": {},
    "colab_type": "code",
    "id": "xfLaN8GhQdr0"
   },
   "outputs": [],
   "source": [
    "def plot_roc_curve (fpr, tpr, style = 'b-', label = None):\n",
    "    plt.plot(fpr, tpr, style, linewidth = 3, label = label)\n",
    "    plt.plot([0,1], [0, 1], 'k--')\n",
    "    plt.axis([0, 1, 0, 1])\n",
    "    plt.xlabel ('False Positive Rate')\n",
    "    plt.ylabel ('True Positive Rate')\n",
    "    plt.title('TPR vs FPR', fontsize=20)"
   ]
  },
  {
   "cell_type": "code",
   "execution_count": 295,
   "metadata": {
    "colab": {},
    "colab_type": "code",
    "id": "UPjXY-zoQdr3",
    "outputId": "50dad674-5e71-431d-8766-4261aeaaf604"
   },
   "outputs": [
    {
     "data": {
      "image/png": "[encoded data removed]",
      "text/plain": [
       "<Figure size 576x432 with 1 Axes>"
      ]
     },
     "metadata": {},
     "output_type": "display_data"
    }
   ],
   "source": [
    "plt.figure(figsize = (8, 6))\n",
    "plot_roc_curve(fpr_knn, tpr_knn, 'r-', 'K-NearestNeighborsClassifier')\n",
    "plot_roc_curve(fpr_svc, tpr_svc, 'b-', 'SupportVectorClassifier')\n",
    "plt.legend (loc='lower right')\n",
    "plt.show()"
   ]
  },
  {
   "cell_type": "code",
   "execution_count": 296,
   "metadata": {
    "colab": {},
    "colab_type": "code",
    "id": "84EIZd_uQdr5",
    "outputId": "0b1ddf01-2b70-46c1-a5f5-0990551ba796"
   },
   "outputs": [
    {
     "name": "stdout",
     "output_type": "stream",
     "text": [
      "AUC for K-NearestNeighbors = 0.8273\n",
      "AUC for SupportVectorClassifier = 0.8620\n"
     ]
    }
   ],
   "source": [
    "from sklearn.metrics import roc_auc_score\n",
    "auc_knn = roc_auc_score(y_train, y_scores_knn)\n",
    "print('AUC for K-NearestNeighbors = {:.4f}'.format(auc_knn))\n",
    "auc_svc = roc_auc_score(y_train, y_scores_svc)\n",
    "print('AUC for SupportVectorClassifier = {:.4f}'.format(auc_svc))"
   ]
  },
  {
   "cell_type": "markdown",
   "metadata": {},
   "source": [
    "From the result of Area Under Curve we can see that Support Vector Classifier has larger area than K-Nearest Neighbors, mean Support Vector Classifier is better"
   ]
  },
  {
   "cell_type": "markdown",
   "metadata": {
    "colab_type": "text",
    "id": "cEO0fxN-ODVQ"
   },
   "source": [
    "## F. Deployment"
   ]
  },
  {
   "cell_type": "markdown",
   "metadata": {},
   "source": [
    "After we obtain the accuracy of this model, Spotify will implement it in their song mobile applications. By using the model, they can obtain the result of what type of songs their users prefer to listen to, and able to generate a song playlist for all users. Besides, when there is a new song added to their applications, they can continue to analyse what type of song is becoming the trend in the current era, and make use of the song to make advertisement and marketing strategy."
   ]
  },
  {
   "cell_type": "markdown",
   "metadata": {
    "colab_type": "text",
    "id": "nKDVoade1IrU"
   },
   "source": [
    "## G. Visualization"
   ]
  },
  {
   "cell_type": "code",
   "execution_count": 297,
   "metadata": {},
   "outputs": [],
   "source": [
    "y_result = y_test.values"
   ]
  },
  {
   "cell_type": "code",
   "execution_count": 298,
   "metadata": {},
   "outputs": [],
   "source": [
    "total_attributes_value = 0\n",
    "for i in range(33982):\n",
    "    if pred_knn[i] == y_result[i]:\n",
    "        total_attributes_value += X_test[i]"
   ]
  },
  {
   "cell_type": "code",
   "execution_count": 299,
   "metadata": {},
   "outputs": [
    {
     "data": {
      "text/html": [
       "<div>\n",
       "<style scoped>\n",
       "    .dataframe tbody tr th:only-of-type {\n",
       "        vertical-align: middle;\n",
       "    }\n",
       "\n",
       "    .dataframe tbody tr th {\n",
       "        vertical-align: top;\n",
       "    }\n",
       "\n",
       "    .dataframe thead th {\n",
       "        text-align: right;\n",
       "    }\n",
       "</style>\n",
       "<table border=\"1\" class=\"dataframe\">\n",
       "  <thead>\n",
       "    <tr style=\"text-align: right;\">\n",
       "      <th></th>\n",
       "      <th>acousticness</th>\n",
       "      <th>danceability</th>\n",
       "      <th>duration_ms</th>\n",
       "      <th>energy</th>\n",
       "      <th>explicit</th>\n",
       "      <th>instrumentalness</th>\n",
       "      <th>key</th>\n",
       "      <th>liveness</th>\n",
       "      <th>loudness</th>\n",
       "      <th>mode</th>\n",
       "      <th>speechiness</th>\n",
       "      <th>tempo</th>\n",
       "      <th>valence</th>\n",
       "    </tr>\n",
       "  </thead>\n",
       "  <tbody>\n",
       "    <tr>\n",
       "      <th>Score</th>\n",
       "      <td>808.664115</td>\n",
       "      <td>641.121877</td>\n",
       "      <td>-139.144246</td>\n",
       "      <td>-485.377085</td>\n",
       "      <td>1689.514655</td>\n",
       "      <td>385.968041</td>\n",
       "      <td>9.027675</td>\n",
       "      <td>255.363779</td>\n",
       "      <td>531.388652</td>\n",
       "      <td>-561.967191</td>\n",
       "      <td>1927.025909</td>\n",
       "      <td>-483.293075</td>\n",
       "      <td>-532.175078</td>\n",
       "    </tr>\n",
       "  </tbody>\n",
       "</table>\n",
       "</div>"
      ],
      "text/plain": [
       "       acousticness  danceability  duration_ms      energy     explicit  \\\n",
       "Score    808.664115    641.121877  -139.144246 -485.377085  1689.514655   \n",
       "\n",
       "       instrumentalness       key    liveness    loudness        mode  \\\n",
       "Score        385.968041  9.027675  255.363779  531.388652 -561.967191   \n",
       "\n",
       "       speechiness       tempo     valence  \n",
       "Score  1927.025909 -483.293075 -532.175078  "
      ]
     },
     "execution_count": 299,
     "metadata": {},
     "output_type": "execute_result"
    }
   ],
   "source": [
    "knn_view = {'acousticness':total_attributes_value[0],\n",
    "            'danceability':total_attributes_value[1],\n",
    "            'duration_ms':total_attributes_value[2],\n",
    "            'energy':total_attributes_value[3],\n",
    "            'explicit':total_attributes_value[4],\n",
    "            'instrumentalness':total_attributes_value[5],\n",
    "            'key':total_attributes_value[6],\n",
    "            'liveness':total_attributes_value[7],\n",
    "            'loudness':total_attributes_value[8],\n",
    "            'mode':total_attributes_value[9],\n",
    "            'speechiness':total_attributes_value[10],\n",
    "            'tempo':total_attributes_value[11],\n",
    "            'valence':total_attributes_value[12]}\n",
    "\n",
    "table_view = pd.DataFrame(knn_view, index=['Score'])\n",
    "table_view"
   ]
  },
  {
   "cell_type": "code",
   "execution_count": 300,
   "metadata": {},
   "outputs": [],
   "source": [
    "category = list(table_view.keys())"
   ]
  },
  {
   "cell_type": "code",
   "execution_count": 301,
   "metadata": {},
   "outputs": [],
   "source": [
    "scoring = list(total_attributes_value)"
   ]
  },
  {
   "cell_type": "code",
   "execution_count": 302,
   "metadata": {},
   "outputs": [
    {
     "data": {
      "text/plain": [
       "Text(0.5, 0.98, 'KNN Song Attributes Score for contribution to popularity')"
      ]
     },
     "execution_count": 302,
     "metadata": {},
     "output_type": "execute_result"
    },
    {
     "data": {
      "image/png": "[encoded data removed]",
      "text/plain": [
       "<Figure size 1440x720 with 1 Axes>"
      ]
     },
     "metadata": {},
     "output_type": "display_data"
    }
   ],
   "source": [
    "fig, axs = plt.subplots(1, figsize=(20, 10), sharey=True)\n",
    "axs.bar(category, scoring)\n",
    "fig.suptitle('KNN Song Attributes Score for contribution to popularity')"
   ]
  },
  {
   "cell_type": "code",
   "execution_count": 308,
   "metadata": {},
   "outputs": [],
   "source": [
    "svc_total_attributes_value = 0\n",
    "for i in range(33982):\n",
    "    if pred_svc[i] == y_result[i]:\n",
    "        svc_total_attributes_value += X_test[i]"
   ]
  },
  {
   "cell_type": "code",
   "execution_count": 309,
   "metadata": {},
   "outputs": [
    {
     "data": {
      "text/html": [
       "<div>\n",
       "<style scoped>\n",
       "    .dataframe tbody tr th:only-of-type {\n",
       "        vertical-align: middle;\n",
       "    }\n",
       "\n",
       "    .dataframe tbody tr th {\n",
       "        vertical-align: top;\n",
       "    }\n",
       "\n",
       "    .dataframe thead th {\n",
       "        text-align: right;\n",
       "    }\n",
       "</style>\n",
       "<table border=\"1\" class=\"dataframe\">\n",
       "  <thead>\n",
       "    <tr style=\"text-align: right;\">\n",
       "      <th></th>\n",
       "      <th>acousticness</th>\n",
       "      <th>danceability</th>\n",
       "      <th>duration_ms</th>\n",
       "      <th>energy</th>\n",
       "      <th>explicit</th>\n",
       "      <th>instrumentalness</th>\n",
       "      <th>key</th>\n",
       "      <th>liveness</th>\n",
       "      <th>loudness</th>\n",
       "      <th>mode</th>\n",
       "      <th>speechiness</th>\n",
       "      <th>tempo</th>\n",
       "      <th>valence</th>\n",
       "    </tr>\n",
       "  </thead>\n",
       "  <tbody>\n",
       "    <tr>\n",
       "      <th>Score</th>\n",
       "      <td>808.664115</td>\n",
       "      <td>641.121877</td>\n",
       "      <td>-139.144246</td>\n",
       "      <td>-485.377085</td>\n",
       "      <td>1689.514655</td>\n",
       "      <td>385.968041</td>\n",
       "      <td>9.027675</td>\n",
       "      <td>255.363779</td>\n",
       "      <td>531.388652</td>\n",
       "      <td>-561.967191</td>\n",
       "      <td>1927.025909</td>\n",
       "      <td>-483.293075</td>\n",
       "      <td>-532.175078</td>\n",
       "    </tr>\n",
       "  </tbody>\n",
       "</table>\n",
       "</div>"
      ],
      "text/plain": [
       "       acousticness  danceability  duration_ms      energy     explicit  \\\n",
       "Score    808.664115    641.121877  -139.144246 -485.377085  1689.514655   \n",
       "\n",
       "       instrumentalness       key    liveness    loudness        mode  \\\n",
       "Score        385.968041  9.027675  255.363779  531.388652 -561.967191   \n",
       "\n",
       "       speechiness       tempo     valence  \n",
       "Score  1927.025909 -483.293075 -532.175078  "
      ]
     },
     "execution_count": 309,
     "metadata": {},
     "output_type": "execute_result"
    }
   ],
   "source": [
    "svc_view = {'acousticness':total_attributes_value[0],\n",
    "            'danceability':total_attributes_value[1],\n",
    "            'duration_ms':total_attributes_value[2],\n",
    "            'energy':total_attributes_value[3],\n",
    "            'explicit':total_attributes_value[4],\n",
    "            'instrumentalness':total_attributes_value[5],\n",
    "            'key':total_attributes_value[6],\n",
    "            'liveness':total_attributes_value[7],\n",
    "            'loudness':total_attributes_value[8],\n",
    "            'mode':total_attributes_value[9],\n",
    "            'speechiness':total_attributes_value[10],\n",
    "            'tempo':total_attributes_value[11],\n",
    "            'valence':total_attributes_value[12]}\n",
    "\n",
    "svc_table_view = pd.DataFrame(svc_view, index=['Score'])\n",
    "svc_table_view"
   ]
  },
  {
   "cell_type": "code",
   "execution_count": 310,
   "metadata": {},
   "outputs": [],
   "source": [
    "svc_category = list(svc_table_view.keys())"
   ]
  },
  {
   "cell_type": "code",
   "execution_count": 311,
   "metadata": {},
   "outputs": [],
   "source": [
    "svc_scoring = list(svc_total_attributes_value)"
   ]
  },
  {
   "cell_type": "code",
   "execution_count": 312,
   "metadata": {},
   "outputs": [
    {
     "data": {
      "text/plain": [
       "Text(0.5, 0.98, 'SVC Song Attributes Score for contribution to popularity')"
      ]
     },
     "execution_count": 312,
     "metadata": {},
     "output_type": "execute_result"
    },
    {
     "data": {
      "image/png": "[encoded data removed]",
      "text/plain": [
       "<Figure size 1440x720 with 1 Axes>"
      ]
     },
     "metadata": {},
     "output_type": "display_data"
    }
   ],
   "source": [
    "fig, axs = plt.subplots(1, figsize=(20, 10), sharey=True)\n",
    "axs.bar(svc_category, svc_scoring)\n",
    "fig.suptitle('SVC Song Attributes Score for contribution to popularity')"
   ]
  },
  {
   "cell_type": "markdown",
   "metadata": {
    "colab_type": "text",
    "id": "uyCdqolUODVQ"
   },
   "source": [
    "## H. Conclusion"
   ]
  },
  {
   "cell_type": "markdown",
   "metadata": {},
   "source": [
    "As a conclusion, acousticness, danceability, explicit, instrumentalness, key, liveness, loudness and speechiness are the song's attributes that have positive impact toward song's popularity. In fact, duration_ms, energy, mode, tempo, and valence have negative impact towards song's popularity. Our conclusion support by the histogram of KNN and SVC because both of them generates almost the same result."
   ]
  },
  {
   "cell_type": "markdown",
   "metadata": {
    "colab_type": "text",
    "id": "vz9gTAN_ndfq"
   },
   "source": [
    "## I. References\n",
    "* https://stackabuse.com/k-nearest-neighbors-algorithm-in-python-and-scikit-learn/\n",
    "* https://scikit-learn.org/stable/modules/svm.html\n",
    "* https://scikit-learn.org/stable/auto_examples/model_selection/plot_roc.html#:~:text=Example%20of%20Receiver%20Operating%20Characteristic,rate%20on%20the%20X%20axis.\n",
    "* https://www.datacamp.com/community/tutorials/k-nearest-neighbor-classification-scikit-learn?utm_source=adwords_ppc&utm_campaignid=1455363063&utm_adgroupid=65083631748&utm_device=c&utm_keyword=&utm_matchtype=b&utm_network=g&utm_adpostion=&utm_creative=332602034358&utm_targetid=dsa-429603003980&utm_loc_interest_ms=&utm_loc_physical_ms=9072938&gclid=EAIaIQobChMI3vvzi5Tl6wIVtcEWBR0__gi-EAAYASAAEgKjefD_BwE\n",
    "* https://www.datacamp.com/community/tutorials/for-loops-in-python?utm_source=adwords_ppc&utm_campaignid=1455363063&utm_adgroupid=65083631748&utm_device=c&utm_keyword=&utm_matchtype=b&utm_network=g&utm_adpostion=&utm_creative=332602034358&utm_targetid=dsa-429603003980&utm_loc_interest_ms=&utm_loc_physical_ms=9072938&gclid=EAIaIQobChMIm_D-i6vl6wIVF6mWCh0Y1gkNEAAYASAAEgJhffD_BwE\n",
    "* https://matplotlib.org/3.1.1/gallery/lines_bars_and_markers/categorical_variables.html"
   ]
  }
 ],
 "metadata": {
  "colab": {
   "name": "Data_Science_Assignment.ipynb",
   "provenance": [],
   "toc_visible": true
  },
  "kernelspec": {
   "display_name": "Python 3",
   "language": "python",
   "name": "python3"
  },
  "language_info": {
   "codemirror_mode": {
    "name": "ipython",
    "version": 3
   },
   "file_extension": ".py",
   "mimetype": "text/x-python",
   "name": "python",
   "nbconvert_exporter": "python",
   "pygments_lexer": "ipython3",
   "version": "3.8.3"
  }
 },
 "nbformat": 4,
 "nbformat_minor": 4
}
